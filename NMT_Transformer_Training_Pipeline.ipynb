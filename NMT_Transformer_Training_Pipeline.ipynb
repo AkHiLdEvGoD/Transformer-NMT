{
  "nbformat": 4,
  "nbformat_minor": 0,
  "metadata": {
    "colab": {
      "provenance": [],
      "gpuType": "T4",
      "include_colab_link": true
    },
    "kernelspec": {
      "name": "python3",
      "display_name": "Python 3"
    },
    "language_info": {
      "name": "python"
    },
    "widgets": {
      "application/vnd.jupyter.widget-state+json": {
        "342bbc43c48046b7b4a98635f037db08": {
          "model_module": "@jupyter-widgets/controls",
          "model_name": "HBoxModel",
          "model_module_version": "1.5.0",
          "state": {
            "_dom_classes": [],
            "_model_module": "@jupyter-widgets/controls",
            "_model_module_version": "1.5.0",
            "_model_name": "HBoxModel",
            "_view_count": null,
            "_view_module": "@jupyter-widgets/controls",
            "_view_module_version": "1.5.0",
            "_view_name": "HBoxView",
            "box_style": "",
            "children": [
              "IPY_MODEL_45dbb6b86d7f4a15bcb6618a5d840dbc",
              "IPY_MODEL_621271bc5b6f445dad584b3b7edcdf9f",
              "IPY_MODEL_6b0efdd425a947848a3f8857f083a36e"
            ],
            "layout": "IPY_MODEL_5602ec2a69b54533b44f70592b067208"
          }
        },
        "45dbb6b86d7f4a15bcb6618a5d840dbc": {
          "model_module": "@jupyter-widgets/controls",
          "model_name": "HTMLModel",
          "model_module_version": "1.5.0",
          "state": {
            "_dom_classes": [],
            "_model_module": "@jupyter-widgets/controls",
            "_model_module_version": "1.5.0",
            "_model_name": "HTMLModel",
            "_view_count": null,
            "_view_module": "@jupyter-widgets/controls",
            "_view_module_version": "1.5.0",
            "_view_name": "HTMLView",
            "description": "",
            "description_tooltip": null,
            "layout": "IPY_MODEL_87b75e2dad414a50906332c22e6e816f",
            "placeholder": "​",
            "style": "IPY_MODEL_88e63ebaa6654e269ec428f52796a1a1",
            "value": "README.md: "
          }
        },
        "621271bc5b6f445dad584b3b7edcdf9f": {
          "model_module": "@jupyter-widgets/controls",
          "model_name": "FloatProgressModel",
          "model_module_version": "1.5.0",
          "state": {
            "_dom_classes": [],
            "_model_module": "@jupyter-widgets/controls",
            "_model_module_version": "1.5.0",
            "_model_name": "FloatProgressModel",
            "_view_count": null,
            "_view_module": "@jupyter-widgets/controls",
            "_view_module_version": "1.5.0",
            "_view_name": "ProgressView",
            "bar_style": "success",
            "description": "",
            "description_tooltip": null,
            "layout": "IPY_MODEL_86cad27c8cd04eee9ea17ea440a64e77",
            "max": 1,
            "min": 0,
            "orientation": "horizontal",
            "style": "IPY_MODEL_5175dd374527457eae261d09c5baceb6",
            "value": 1
          }
        },
        "6b0efdd425a947848a3f8857f083a36e": {
          "model_module": "@jupyter-widgets/controls",
          "model_name": "HTMLModel",
          "model_module_version": "1.5.0",
          "state": {
            "_dom_classes": [],
            "_model_module": "@jupyter-widgets/controls",
            "_model_module_version": "1.5.0",
            "_model_name": "HTMLModel",
            "_view_count": null,
            "_view_module": "@jupyter-widgets/controls",
            "_view_module_version": "1.5.0",
            "_view_name": "HTMLView",
            "description": "",
            "description_tooltip": null,
            "layout": "IPY_MODEL_d55ea6d7646545aca1eb32bd051dda27",
            "placeholder": "​",
            "style": "IPY_MODEL_c39f214bbac746b8a849b6227c9ed61e",
            "value": " 2.23k/? [00:00&lt;00:00, 114kB/s]"
          }
        },
        "5602ec2a69b54533b44f70592b067208": {
          "model_module": "@jupyter-widgets/base",
          "model_name": "LayoutModel",
          "model_module_version": "1.2.0",
          "state": {
            "_model_module": "@jupyter-widgets/base",
            "_model_module_version": "1.2.0",
            "_model_name": "LayoutModel",
            "_view_count": null,
            "_view_module": "@jupyter-widgets/base",
            "_view_module_version": "1.2.0",
            "_view_name": "LayoutView",
            "align_content": null,
            "align_items": null,
            "align_self": null,
            "border": null,
            "bottom": null,
            "display": null,
            "flex": null,
            "flex_flow": null,
            "grid_area": null,
            "grid_auto_columns": null,
            "grid_auto_flow": null,
            "grid_auto_rows": null,
            "grid_column": null,
            "grid_gap": null,
            "grid_row": null,
            "grid_template_areas": null,
            "grid_template_columns": null,
            "grid_template_rows": null,
            "height": null,
            "justify_content": null,
            "justify_items": null,
            "left": null,
            "margin": null,
            "max_height": null,
            "max_width": null,
            "min_height": null,
            "min_width": null,
            "object_fit": null,
            "object_position": null,
            "order": null,
            "overflow": null,
            "overflow_x": null,
            "overflow_y": null,
            "padding": null,
            "right": null,
            "top": null,
            "visibility": null,
            "width": null
          }
        },
        "87b75e2dad414a50906332c22e6e816f": {
          "model_module": "@jupyter-widgets/base",
          "model_name": "LayoutModel",
          "model_module_version": "1.2.0",
          "state": {
            "_model_module": "@jupyter-widgets/base",
            "_model_module_version": "1.2.0",
            "_model_name": "LayoutModel",
            "_view_count": null,
            "_view_module": "@jupyter-widgets/base",
            "_view_module_version": "1.2.0",
            "_view_name": "LayoutView",
            "align_content": null,
            "align_items": null,
            "align_self": null,
            "border": null,
            "bottom": null,
            "display": null,
            "flex": null,
            "flex_flow": null,
            "grid_area": null,
            "grid_auto_columns": null,
            "grid_auto_flow": null,
            "grid_auto_rows": null,
            "grid_column": null,
            "grid_gap": null,
            "grid_row": null,
            "grid_template_areas": null,
            "grid_template_columns": null,
            "grid_template_rows": null,
            "height": null,
            "justify_content": null,
            "justify_items": null,
            "left": null,
            "margin": null,
            "max_height": null,
            "max_width": null,
            "min_height": null,
            "min_width": null,
            "object_fit": null,
            "object_position": null,
            "order": null,
            "overflow": null,
            "overflow_x": null,
            "overflow_y": null,
            "padding": null,
            "right": null,
            "top": null,
            "visibility": null,
            "width": null
          }
        },
        "88e63ebaa6654e269ec428f52796a1a1": {
          "model_module": "@jupyter-widgets/controls",
          "model_name": "DescriptionStyleModel",
          "model_module_version": "1.5.0",
          "state": {
            "_model_module": "@jupyter-widgets/controls",
            "_model_module_version": "1.5.0",
            "_model_name": "DescriptionStyleModel",
            "_view_count": null,
            "_view_module": "@jupyter-widgets/base",
            "_view_module_version": "1.2.0",
            "_view_name": "StyleView",
            "description_width": ""
          }
        },
        "86cad27c8cd04eee9ea17ea440a64e77": {
          "model_module": "@jupyter-widgets/base",
          "model_name": "LayoutModel",
          "model_module_version": "1.2.0",
          "state": {
            "_model_module": "@jupyter-widgets/base",
            "_model_module_version": "1.2.0",
            "_model_name": "LayoutModel",
            "_view_count": null,
            "_view_module": "@jupyter-widgets/base",
            "_view_module_version": "1.2.0",
            "_view_name": "LayoutView",
            "align_content": null,
            "align_items": null,
            "align_self": null,
            "border": null,
            "bottom": null,
            "display": null,
            "flex": null,
            "flex_flow": null,
            "grid_area": null,
            "grid_auto_columns": null,
            "grid_auto_flow": null,
            "grid_auto_rows": null,
            "grid_column": null,
            "grid_gap": null,
            "grid_row": null,
            "grid_template_areas": null,
            "grid_template_columns": null,
            "grid_template_rows": null,
            "height": null,
            "justify_content": null,
            "justify_items": null,
            "left": null,
            "margin": null,
            "max_height": null,
            "max_width": null,
            "min_height": null,
            "min_width": null,
            "object_fit": null,
            "object_position": null,
            "order": null,
            "overflow": null,
            "overflow_x": null,
            "overflow_y": null,
            "padding": null,
            "right": null,
            "top": null,
            "visibility": null,
            "width": "20px"
          }
        },
        "5175dd374527457eae261d09c5baceb6": {
          "model_module": "@jupyter-widgets/controls",
          "model_name": "ProgressStyleModel",
          "model_module_version": "1.5.0",
          "state": {
            "_model_module": "@jupyter-widgets/controls",
            "_model_module_version": "1.5.0",
            "_model_name": "ProgressStyleModel",
            "_view_count": null,
            "_view_module": "@jupyter-widgets/base",
            "_view_module_version": "1.2.0",
            "_view_name": "StyleView",
            "bar_color": null,
            "description_width": ""
          }
        },
        "d55ea6d7646545aca1eb32bd051dda27": {
          "model_module": "@jupyter-widgets/base",
          "model_name": "LayoutModel",
          "model_module_version": "1.2.0",
          "state": {
            "_model_module": "@jupyter-widgets/base",
            "_model_module_version": "1.2.0",
            "_model_name": "LayoutModel",
            "_view_count": null,
            "_view_module": "@jupyter-widgets/base",
            "_view_module_version": "1.2.0",
            "_view_name": "LayoutView",
            "align_content": null,
            "align_items": null,
            "align_self": null,
            "border": null,
            "bottom": null,
            "display": null,
            "flex": null,
            "flex_flow": null,
            "grid_area": null,
            "grid_auto_columns": null,
            "grid_auto_flow": null,
            "grid_auto_rows": null,
            "grid_column": null,
            "grid_gap": null,
            "grid_row": null,
            "grid_template_areas": null,
            "grid_template_columns": null,
            "grid_template_rows": null,
            "height": null,
            "justify_content": null,
            "justify_items": null,
            "left": null,
            "margin": null,
            "max_height": null,
            "max_width": null,
            "min_height": null,
            "min_width": null,
            "object_fit": null,
            "object_position": null,
            "order": null,
            "overflow": null,
            "overflow_x": null,
            "overflow_y": null,
            "padding": null,
            "right": null,
            "top": null,
            "visibility": null,
            "width": null
          }
        },
        "c39f214bbac746b8a849b6227c9ed61e": {
          "model_module": "@jupyter-widgets/controls",
          "model_name": "DescriptionStyleModel",
          "model_module_version": "1.5.0",
          "state": {
            "_model_module": "@jupyter-widgets/controls",
            "_model_module_version": "1.5.0",
            "_model_name": "DescriptionStyleModel",
            "_view_count": null,
            "_view_module": "@jupyter-widgets/base",
            "_view_module_version": "1.2.0",
            "_view_name": "StyleView",
            "description_width": ""
          }
        },
        "e20df9356bad4bda8e3b7f73c315a959": {
          "model_module": "@jupyter-widgets/controls",
          "model_name": "HBoxModel",
          "model_module_version": "1.5.0",
          "state": {
            "_dom_classes": [],
            "_model_module": "@jupyter-widgets/controls",
            "_model_module_version": "1.5.0",
            "_model_name": "HBoxModel",
            "_view_count": null,
            "_view_module": "@jupyter-widgets/controls",
            "_view_module_version": "1.5.0",
            "_view_name": "HBoxView",
            "box_style": "",
            "children": [
              "IPY_MODEL_816346b2bf0c4567b3561ec64e0ec863",
              "IPY_MODEL_e4bf7a5dfc194e95bd2305ff37800c44",
              "IPY_MODEL_5ea7452e9a5747b59b01d7c0c588ced6"
            ],
            "layout": "IPY_MODEL_f18b07d4da55416cbb8f6ab057a316a9"
          }
        },
        "816346b2bf0c4567b3561ec64e0ec863": {
          "model_module": "@jupyter-widgets/controls",
          "model_name": "HTMLModel",
          "model_module_version": "1.5.0",
          "state": {
            "_dom_classes": [],
            "_model_module": "@jupyter-widgets/controls",
            "_model_module_version": "1.5.0",
            "_model_name": "HTMLModel",
            "_view_count": null,
            "_view_module": "@jupyter-widgets/controls",
            "_view_module_version": "1.5.0",
            "_view_name": "HTMLView",
            "description": "",
            "description_tooltip": null,
            "layout": "IPY_MODEL_88fae5790b614a4cb7f0e57bf0918248",
            "placeholder": "​",
            "style": "IPY_MODEL_57d789f40b244c9da6d725654dae106d",
            "value": "data/train-00000-of-00001-71c2cec7402cd4(…): 100%"
          }
        },
        "e4bf7a5dfc194e95bd2305ff37800c44": {
          "model_module": "@jupyter-widgets/controls",
          "model_name": "FloatProgressModel",
          "model_module_version": "1.5.0",
          "state": {
            "_dom_classes": [],
            "_model_module": "@jupyter-widgets/controls",
            "_model_module_version": "1.5.0",
            "_model_name": "FloatProgressModel",
            "_view_count": null,
            "_view_module": "@jupyter-widgets/controls",
            "_view_module_version": "1.5.0",
            "_view_name": "ProgressView",
            "bar_style": "success",
            "description": "",
            "description_tooltip": null,
            "layout": "IPY_MODEL_65d0b234d8814553ad451c0b74bf600f",
            "max": 21737146,
            "min": 0,
            "orientation": "horizontal",
            "style": "IPY_MODEL_9d39e4a6187e4752adec31ab24d39fa9",
            "value": 21737146
          }
        },
        "5ea7452e9a5747b59b01d7c0c588ced6": {
          "model_module": "@jupyter-widgets/controls",
          "model_name": "HTMLModel",
          "model_module_version": "1.5.0",
          "state": {
            "_dom_classes": [],
            "_model_module": "@jupyter-widgets/controls",
            "_model_module_version": "1.5.0",
            "_model_name": "HTMLModel",
            "_view_count": null,
            "_view_module": "@jupyter-widgets/controls",
            "_view_module_version": "1.5.0",
            "_view_name": "HTMLView",
            "description": "",
            "description_tooltip": null,
            "layout": "IPY_MODEL_6228660927de47219d29014a2b482f18",
            "placeholder": "​",
            "style": "IPY_MODEL_d6a06604c25646dabb6ef277cce537a4",
            "value": " 21.7M/21.7M [00:01&lt;00:00, 13.4MB/s]"
          }
        },
        "f18b07d4da55416cbb8f6ab057a316a9": {
          "model_module": "@jupyter-widgets/base",
          "model_name": "LayoutModel",
          "model_module_version": "1.2.0",
          "state": {
            "_model_module": "@jupyter-widgets/base",
            "_model_module_version": "1.2.0",
            "_model_name": "LayoutModel",
            "_view_count": null,
            "_view_module": "@jupyter-widgets/base",
            "_view_module_version": "1.2.0",
            "_view_name": "LayoutView",
            "align_content": null,
            "align_items": null,
            "align_self": null,
            "border": null,
            "bottom": null,
            "display": null,
            "flex": null,
            "flex_flow": null,
            "grid_area": null,
            "grid_auto_columns": null,
            "grid_auto_flow": null,
            "grid_auto_rows": null,
            "grid_column": null,
            "grid_gap": null,
            "grid_row": null,
            "grid_template_areas": null,
            "grid_template_columns": null,
            "grid_template_rows": null,
            "height": null,
            "justify_content": null,
            "justify_items": null,
            "left": null,
            "margin": null,
            "max_height": null,
            "max_width": null,
            "min_height": null,
            "min_width": null,
            "object_fit": null,
            "object_position": null,
            "order": null,
            "overflow": null,
            "overflow_x": null,
            "overflow_y": null,
            "padding": null,
            "right": null,
            "top": null,
            "visibility": null,
            "width": null
          }
        },
        "88fae5790b614a4cb7f0e57bf0918248": {
          "model_module": "@jupyter-widgets/base",
          "model_name": "LayoutModel",
          "model_module_version": "1.2.0",
          "state": {
            "_model_module": "@jupyter-widgets/base",
            "_model_module_version": "1.2.0",
            "_model_name": "LayoutModel",
            "_view_count": null,
            "_view_module": "@jupyter-widgets/base",
            "_view_module_version": "1.2.0",
            "_view_name": "LayoutView",
            "align_content": null,
            "align_items": null,
            "align_self": null,
            "border": null,
            "bottom": null,
            "display": null,
            "flex": null,
            "flex_flow": null,
            "grid_area": null,
            "grid_auto_columns": null,
            "grid_auto_flow": null,
            "grid_auto_rows": null,
            "grid_column": null,
            "grid_gap": null,
            "grid_row": null,
            "grid_template_areas": null,
            "grid_template_columns": null,
            "grid_template_rows": null,
            "height": null,
            "justify_content": null,
            "justify_items": null,
            "left": null,
            "margin": null,
            "max_height": null,
            "max_width": null,
            "min_height": null,
            "min_width": null,
            "object_fit": null,
            "object_position": null,
            "order": null,
            "overflow": null,
            "overflow_x": null,
            "overflow_y": null,
            "padding": null,
            "right": null,
            "top": null,
            "visibility": null,
            "width": null
          }
        },
        "57d789f40b244c9da6d725654dae106d": {
          "model_module": "@jupyter-widgets/controls",
          "model_name": "DescriptionStyleModel",
          "model_module_version": "1.5.0",
          "state": {
            "_model_module": "@jupyter-widgets/controls",
            "_model_module_version": "1.5.0",
            "_model_name": "DescriptionStyleModel",
            "_view_count": null,
            "_view_module": "@jupyter-widgets/base",
            "_view_module_version": "1.2.0",
            "_view_name": "StyleView",
            "description_width": ""
          }
        },
        "65d0b234d8814553ad451c0b74bf600f": {
          "model_module": "@jupyter-widgets/base",
          "model_name": "LayoutModel",
          "model_module_version": "1.2.0",
          "state": {
            "_model_module": "@jupyter-widgets/base",
            "_model_module_version": "1.2.0",
            "_model_name": "LayoutModel",
            "_view_count": null,
            "_view_module": "@jupyter-widgets/base",
            "_view_module_version": "1.2.0",
            "_view_name": "LayoutView",
            "align_content": null,
            "align_items": null,
            "align_self": null,
            "border": null,
            "bottom": null,
            "display": null,
            "flex": null,
            "flex_flow": null,
            "grid_area": null,
            "grid_auto_columns": null,
            "grid_auto_flow": null,
            "grid_auto_rows": null,
            "grid_column": null,
            "grid_gap": null,
            "grid_row": null,
            "grid_template_areas": null,
            "grid_template_columns": null,
            "grid_template_rows": null,
            "height": null,
            "justify_content": null,
            "justify_items": null,
            "left": null,
            "margin": null,
            "max_height": null,
            "max_width": null,
            "min_height": null,
            "min_width": null,
            "object_fit": null,
            "object_position": null,
            "order": null,
            "overflow": null,
            "overflow_x": null,
            "overflow_y": null,
            "padding": null,
            "right": null,
            "top": null,
            "visibility": null,
            "width": null
          }
        },
        "9d39e4a6187e4752adec31ab24d39fa9": {
          "model_module": "@jupyter-widgets/controls",
          "model_name": "ProgressStyleModel",
          "model_module_version": "1.5.0",
          "state": {
            "_model_module": "@jupyter-widgets/controls",
            "_model_module_version": "1.5.0",
            "_model_name": "ProgressStyleModel",
            "_view_count": null,
            "_view_module": "@jupyter-widgets/base",
            "_view_module_version": "1.2.0",
            "_view_name": "StyleView",
            "bar_color": null,
            "description_width": ""
          }
        },
        "6228660927de47219d29014a2b482f18": {
          "model_module": "@jupyter-widgets/base",
          "model_name": "LayoutModel",
          "model_module_version": "1.2.0",
          "state": {
            "_model_module": "@jupyter-widgets/base",
            "_model_module_version": "1.2.0",
            "_model_name": "LayoutModel",
            "_view_count": null,
            "_view_module": "@jupyter-widgets/base",
            "_view_module_version": "1.2.0",
            "_view_name": "LayoutView",
            "align_content": null,
            "align_items": null,
            "align_self": null,
            "border": null,
            "bottom": null,
            "display": null,
            "flex": null,
            "flex_flow": null,
            "grid_area": null,
            "grid_auto_columns": null,
            "grid_auto_flow": null,
            "grid_auto_rows": null,
            "grid_column": null,
            "grid_gap": null,
            "grid_row": null,
            "grid_template_areas": null,
            "grid_template_columns": null,
            "grid_template_rows": null,
            "height": null,
            "justify_content": null,
            "justify_items": null,
            "left": null,
            "margin": null,
            "max_height": null,
            "max_width": null,
            "min_height": null,
            "min_width": null,
            "object_fit": null,
            "object_position": null,
            "order": null,
            "overflow": null,
            "overflow_x": null,
            "overflow_y": null,
            "padding": null,
            "right": null,
            "top": null,
            "visibility": null,
            "width": null
          }
        },
        "d6a06604c25646dabb6ef277cce537a4": {
          "model_module": "@jupyter-widgets/controls",
          "model_name": "DescriptionStyleModel",
          "model_module_version": "1.5.0",
          "state": {
            "_model_module": "@jupyter-widgets/controls",
            "_model_module_version": "1.5.0",
            "_model_name": "DescriptionStyleModel",
            "_view_count": null,
            "_view_module": "@jupyter-widgets/base",
            "_view_module_version": "1.2.0",
            "_view_name": "StyleView",
            "description_width": ""
          }
        },
        "b740cdff18834bea8c29398599355988": {
          "model_module": "@jupyter-widgets/controls",
          "model_name": "HBoxModel",
          "model_module_version": "1.5.0",
          "state": {
            "_dom_classes": [],
            "_model_module": "@jupyter-widgets/controls",
            "_model_module_version": "1.5.0",
            "_model_name": "HBoxModel",
            "_view_count": null,
            "_view_module": "@jupyter-widgets/controls",
            "_view_module_version": "1.5.0",
            "_view_name": "HBoxView",
            "box_style": "",
            "children": [
              "IPY_MODEL_2c5dc7d03f4143718396391e33f0ecff",
              "IPY_MODEL_186456391ef449538811fee8d9d65848",
              "IPY_MODEL_b7f11367c63d461695eee6828002a53d"
            ],
            "layout": "IPY_MODEL_72d42b4349ba4b72b4f088cf6acb0e35"
          }
        },
        "2c5dc7d03f4143718396391e33f0ecff": {
          "model_module": "@jupyter-widgets/controls",
          "model_name": "HTMLModel",
          "model_module_version": "1.5.0",
          "state": {
            "_dom_classes": [],
            "_model_module": "@jupyter-widgets/controls",
            "_model_module_version": "1.5.0",
            "_model_name": "HTMLModel",
            "_view_count": null,
            "_view_module": "@jupyter-widgets/controls",
            "_view_module_version": "1.5.0",
            "_view_name": "HTMLView",
            "description": "",
            "description_tooltip": null,
            "layout": "IPY_MODEL_07188d67bafa40d9a52fc9c2993af796",
            "placeholder": "​",
            "style": "IPY_MODEL_da4d7df9cb764fabb1175bfb59e11f8f",
            "value": "Generating train split: 100%"
          }
        },
        "186456391ef449538811fee8d9d65848": {
          "model_module": "@jupyter-widgets/controls",
          "model_name": "FloatProgressModel",
          "model_module_version": "1.5.0",
          "state": {
            "_dom_classes": [],
            "_model_module": "@jupyter-widgets/controls",
            "_model_module_version": "1.5.0",
            "_model_name": "FloatProgressModel",
            "_view_count": null,
            "_view_module": "@jupyter-widgets/controls",
            "_view_module_version": "1.5.0",
            "_view_name": "ProgressView",
            "bar_style": "success",
            "description": "",
            "description_tooltip": null,
            "layout": "IPY_MODEL_fbd5d33c2bd743da9472e9c3e4174a65",
            "max": 127705,
            "min": 0,
            "orientation": "horizontal",
            "style": "IPY_MODEL_d06b3700e7ac456da0daa70660e00f76",
            "value": 127705
          }
        },
        "b7f11367c63d461695eee6828002a53d": {
          "model_module": "@jupyter-widgets/controls",
          "model_name": "HTMLModel",
          "model_module_version": "1.5.0",
          "state": {
            "_dom_classes": [],
            "_model_module": "@jupyter-widgets/controls",
            "_model_module_version": "1.5.0",
            "_model_name": "HTMLModel",
            "_view_count": null,
            "_view_module": "@jupyter-widgets/controls",
            "_view_module_version": "1.5.0",
            "_view_name": "HTMLView",
            "description": "",
            "description_tooltip": null,
            "layout": "IPY_MODEL_f3df51501697461a8ba764fef4057374",
            "placeholder": "​",
            "style": "IPY_MODEL_e03b35f9b4fd461c9bd2f19965defc70",
            "value": " 127705/127705 [00:00&lt;00:00, 620795.93 examples/s]"
          }
        },
        "72d42b4349ba4b72b4f088cf6acb0e35": {
          "model_module": "@jupyter-widgets/base",
          "model_name": "LayoutModel",
          "model_module_version": "1.2.0",
          "state": {
            "_model_module": "@jupyter-widgets/base",
            "_model_module_version": "1.2.0",
            "_model_name": "LayoutModel",
            "_view_count": null,
            "_view_module": "@jupyter-widgets/base",
            "_view_module_version": "1.2.0",
            "_view_name": "LayoutView",
            "align_content": null,
            "align_items": null,
            "align_self": null,
            "border": null,
            "bottom": null,
            "display": null,
            "flex": null,
            "flex_flow": null,
            "grid_area": null,
            "grid_auto_columns": null,
            "grid_auto_flow": null,
            "grid_auto_rows": null,
            "grid_column": null,
            "grid_gap": null,
            "grid_row": null,
            "grid_template_areas": null,
            "grid_template_columns": null,
            "grid_template_rows": null,
            "height": null,
            "justify_content": null,
            "justify_items": null,
            "left": null,
            "margin": null,
            "max_height": null,
            "max_width": null,
            "min_height": null,
            "min_width": null,
            "object_fit": null,
            "object_position": null,
            "order": null,
            "overflow": null,
            "overflow_x": null,
            "overflow_y": null,
            "padding": null,
            "right": null,
            "top": null,
            "visibility": null,
            "width": null
          }
        },
        "07188d67bafa40d9a52fc9c2993af796": {
          "model_module": "@jupyter-widgets/base",
          "model_name": "LayoutModel",
          "model_module_version": "1.2.0",
          "state": {
            "_model_module": "@jupyter-widgets/base",
            "_model_module_version": "1.2.0",
            "_model_name": "LayoutModel",
            "_view_count": null,
            "_view_module": "@jupyter-widgets/base",
            "_view_module_version": "1.2.0",
            "_view_name": "LayoutView",
            "align_content": null,
            "align_items": null,
            "align_self": null,
            "border": null,
            "bottom": null,
            "display": null,
            "flex": null,
            "flex_flow": null,
            "grid_area": null,
            "grid_auto_columns": null,
            "grid_auto_flow": null,
            "grid_auto_rows": null,
            "grid_column": null,
            "grid_gap": null,
            "grid_row": null,
            "grid_template_areas": null,
            "grid_template_columns": null,
            "grid_template_rows": null,
            "height": null,
            "justify_content": null,
            "justify_items": null,
            "left": null,
            "margin": null,
            "max_height": null,
            "max_width": null,
            "min_height": null,
            "min_width": null,
            "object_fit": null,
            "object_position": null,
            "order": null,
            "overflow": null,
            "overflow_x": null,
            "overflow_y": null,
            "padding": null,
            "right": null,
            "top": null,
            "visibility": null,
            "width": null
          }
        },
        "da4d7df9cb764fabb1175bfb59e11f8f": {
          "model_module": "@jupyter-widgets/controls",
          "model_name": "DescriptionStyleModel",
          "model_module_version": "1.5.0",
          "state": {
            "_model_module": "@jupyter-widgets/controls",
            "_model_module_version": "1.5.0",
            "_model_name": "DescriptionStyleModel",
            "_view_count": null,
            "_view_module": "@jupyter-widgets/base",
            "_view_module_version": "1.2.0",
            "_view_name": "StyleView",
            "description_width": ""
          }
        },
        "fbd5d33c2bd743da9472e9c3e4174a65": {
          "model_module": "@jupyter-widgets/base",
          "model_name": "LayoutModel",
          "model_module_version": "1.2.0",
          "state": {
            "_model_module": "@jupyter-widgets/base",
            "_model_module_version": "1.2.0",
            "_model_name": "LayoutModel",
            "_view_count": null,
            "_view_module": "@jupyter-widgets/base",
            "_view_module_version": "1.2.0",
            "_view_name": "LayoutView",
            "align_content": null,
            "align_items": null,
            "align_self": null,
            "border": null,
            "bottom": null,
            "display": null,
            "flex": null,
            "flex_flow": null,
            "grid_area": null,
            "grid_auto_columns": null,
            "grid_auto_flow": null,
            "grid_auto_rows": null,
            "grid_column": null,
            "grid_gap": null,
            "grid_row": null,
            "grid_template_areas": null,
            "grid_template_columns": null,
            "grid_template_rows": null,
            "height": null,
            "justify_content": null,
            "justify_items": null,
            "left": null,
            "margin": null,
            "max_height": null,
            "max_width": null,
            "min_height": null,
            "min_width": null,
            "object_fit": null,
            "object_position": null,
            "order": null,
            "overflow": null,
            "overflow_x": null,
            "overflow_y": null,
            "padding": null,
            "right": null,
            "top": null,
            "visibility": null,
            "width": null
          }
        },
        "d06b3700e7ac456da0daa70660e00f76": {
          "model_module": "@jupyter-widgets/controls",
          "model_name": "ProgressStyleModel",
          "model_module_version": "1.5.0",
          "state": {
            "_model_module": "@jupyter-widgets/controls",
            "_model_module_version": "1.5.0",
            "_model_name": "ProgressStyleModel",
            "_view_count": null,
            "_view_module": "@jupyter-widgets/base",
            "_view_module_version": "1.2.0",
            "_view_name": "StyleView",
            "bar_color": null,
            "description_width": ""
          }
        },
        "f3df51501697461a8ba764fef4057374": {
          "model_module": "@jupyter-widgets/base",
          "model_name": "LayoutModel",
          "model_module_version": "1.2.0",
          "state": {
            "_model_module": "@jupyter-widgets/base",
            "_model_module_version": "1.2.0",
            "_model_name": "LayoutModel",
            "_view_count": null,
            "_view_module": "@jupyter-widgets/base",
            "_view_module_version": "1.2.0",
            "_view_name": "LayoutView",
            "align_content": null,
            "align_items": null,
            "align_self": null,
            "border": null,
            "bottom": null,
            "display": null,
            "flex": null,
            "flex_flow": null,
            "grid_area": null,
            "grid_auto_columns": null,
            "grid_auto_flow": null,
            "grid_auto_rows": null,
            "grid_column": null,
            "grid_gap": null,
            "grid_row": null,
            "grid_template_areas": null,
            "grid_template_columns": null,
            "grid_template_rows": null,
            "height": null,
            "justify_content": null,
            "justify_items": null,
            "left": null,
            "margin": null,
            "max_height": null,
            "max_width": null,
            "min_height": null,
            "min_width": null,
            "object_fit": null,
            "object_position": null,
            "order": null,
            "overflow": null,
            "overflow_x": null,
            "overflow_y": null,
            "padding": null,
            "right": null,
            "top": null,
            "visibility": null,
            "width": null
          }
        },
        "e03b35f9b4fd461c9bd2f19965defc70": {
          "model_module": "@jupyter-widgets/controls",
          "model_name": "DescriptionStyleModel",
          "model_module_version": "1.5.0",
          "state": {
            "_model_module": "@jupyter-widgets/controls",
            "_model_module_version": "1.5.0",
            "_model_name": "DescriptionStyleModel",
            "_view_count": null,
            "_view_module": "@jupyter-widgets/base",
            "_view_module_version": "1.2.0",
            "_view_name": "StyleView",
            "description_width": ""
          }
        }
      }
    },
    "accelerator": "GPU"
  },
  "cells": [
    {
      "cell_type": "markdown",
      "metadata": {
        "id": "view-in-github",
        "colab_type": "text"
      },
      "source": [
        "<a href=\"https://colab.research.google.com/github/AkHiLdEvGoD/Transformer-NMT/blob/main/NMT_Transformer_Training_Pipeline.ipynb\" target=\"_parent\"><img src=\"https://colab.research.google.com/assets/colab-badge.svg\" alt=\"Open In Colab\"/></a>"
      ]
    },
    {
      "cell_type": "code",
      "execution_count": null,
      "metadata": {
        "id": "vGihzgprgl-E"
      },
      "outputs": [],
      "source": [
        "from datasets import load_dataset"
      ]
    },
    {
      "cell_type": "code",
      "source": [
        "from google.colab import drive\n",
        "drive.mount('/content/drive')"
      ],
      "metadata": {
        "id": "qDdkh1NpE2ZW",
        "outputId": "ce7b57d8-681e-42c1-e2d6-40f15eeb7c10",
        "colab": {
          "base_uri": "https://localhost:8080/"
        }
      },
      "execution_count": null,
      "outputs": [
        {
          "output_type": "stream",
          "name": "stdout",
          "text": [
            "Mounted at /content/drive\n"
          ]
        }
      ]
    },
    {
      "cell_type": "code",
      "source": [
        "dataset = load_dataset(\"Aarif1430/english-to-hindi\")"
      ],
      "metadata": {
        "colab": {
          "base_uri": "https://localhost:8080/",
          "height": 237,
          "referenced_widgets": [
            "342bbc43c48046b7b4a98635f037db08",
            "45dbb6b86d7f4a15bcb6618a5d840dbc",
            "621271bc5b6f445dad584b3b7edcdf9f",
            "6b0efdd425a947848a3f8857f083a36e",
            "5602ec2a69b54533b44f70592b067208",
            "87b75e2dad414a50906332c22e6e816f",
            "88e63ebaa6654e269ec428f52796a1a1",
            "86cad27c8cd04eee9ea17ea440a64e77",
            "5175dd374527457eae261d09c5baceb6",
            "d55ea6d7646545aca1eb32bd051dda27",
            "c39f214bbac746b8a849b6227c9ed61e",
            "e20df9356bad4bda8e3b7f73c315a959",
            "816346b2bf0c4567b3561ec64e0ec863",
            "e4bf7a5dfc194e95bd2305ff37800c44",
            "5ea7452e9a5747b59b01d7c0c588ced6",
            "f18b07d4da55416cbb8f6ab057a316a9",
            "88fae5790b614a4cb7f0e57bf0918248",
            "57d789f40b244c9da6d725654dae106d",
            "65d0b234d8814553ad451c0b74bf600f",
            "9d39e4a6187e4752adec31ab24d39fa9",
            "6228660927de47219d29014a2b482f18",
            "d6a06604c25646dabb6ef277cce537a4",
            "b740cdff18834bea8c29398599355988",
            "2c5dc7d03f4143718396391e33f0ecff",
            "186456391ef449538811fee8d9d65848",
            "b7f11367c63d461695eee6828002a53d",
            "72d42b4349ba4b72b4f088cf6acb0e35",
            "07188d67bafa40d9a52fc9c2993af796",
            "da4d7df9cb764fabb1175bfb59e11f8f",
            "fbd5d33c2bd743da9472e9c3e4174a65",
            "d06b3700e7ac456da0daa70660e00f76",
            "f3df51501697461a8ba764fef4057374",
            "e03b35f9b4fd461c9bd2f19965defc70"
          ]
        },
        "id": "ehrpeWIuZx3g",
        "outputId": "0b3fdffa-b6ad-44de-c176-238633c72a2a"
      },
      "execution_count": null,
      "outputs": [
        {
          "output_type": "stream",
          "name": "stderr",
          "text": [
            "/usr/local/lib/python3.12/dist-packages/huggingface_hub/utils/_auth.py:94: UserWarning: \n",
            "The secret `HF_TOKEN` does not exist in your Colab secrets.\n",
            "To authenticate with the Hugging Face Hub, create a token in your settings tab (https://huggingface.co/settings/tokens), set it as secret in your Google Colab and restart your session.\n",
            "You will be able to reuse this secret in all of your notebooks.\n",
            "Please note that authentication is recommended but still optional to access public models or datasets.\n",
            "  warnings.warn(\n"
          ]
        },
        {
          "output_type": "display_data",
          "data": {
            "text/plain": [
              "README.md: 0.00B [00:00, ?B/s]"
            ],
            "application/vnd.jupyter.widget-view+json": {
              "version_major": 2,
              "version_minor": 0,
              "model_id": "342bbc43c48046b7b4a98635f037db08"
            }
          },
          "metadata": {}
        },
        {
          "output_type": "display_data",
          "data": {
            "text/plain": [
              "data/train-00000-of-00001-71c2cec7402cd4(…):   0%|          | 0.00/21.7M [00:00<?, ?B/s]"
            ],
            "application/vnd.jupyter.widget-view+json": {
              "version_major": 2,
              "version_minor": 0,
              "model_id": "e20df9356bad4bda8e3b7f73c315a959"
            }
          },
          "metadata": {}
        },
        {
          "output_type": "display_data",
          "data": {
            "text/plain": [
              "Generating train split:   0%|          | 0/127705 [00:00<?, ? examples/s]"
            ],
            "application/vnd.jupyter.widget-view+json": {
              "version_major": 2,
              "version_minor": 0,
              "model_id": "b740cdff18834bea8c29398599355988"
            }
          },
          "metadata": {}
        }
      ]
    },
    {
      "cell_type": "code",
      "source": [
        "import math\n",
        "import pandas as pd\n",
        "import numpy as np\n",
        "import re\n",
        "from sklearn.model_selection import train_test_split\n",
        "from tokenizers import Tokenizer, models, trainers, pre_tokenizers, processors, normalizers\n",
        "from tokenizers.normalizers import NFKC, Lowercase, StripAccents, Sequence\n",
        "import unicodedata\n",
        "from tokenizers.pre_tokenizers import Whitespace\n",
        "import torch\n",
        "import torch.nn as nn\n",
        "from torch.utils.data import DataLoader,Dataset\n",
        "from torch.nn.utils.rnn import pad_sequence\n",
        "import torch.optim as optim\n",
        "from torch.nn.utils import clip_grad_norm_\n",
        "from tqdm import tqdm"
      ],
      "metadata": {
        "id": "WLsSN0x_Z4WH"
      },
      "execution_count": null,
      "outputs": []
    },
    {
      "cell_type": "code",
      "source": [
        "train_data = dataset['train']\n",
        "print(train_data[0])"
      ],
      "metadata": {
        "colab": {
          "base_uri": "https://localhost:8080/"
        },
        "id": "kJ0iDsOuaNwD",
        "outputId": "50703531-106e-47b8-db51-3e4bdafffb19"
      },
      "execution_count": null,
      "outputs": [
        {
          "output_type": "stream",
          "name": "stdout",
          "text": [
            "{'english_sentence': \"However, Paes, who was partnering Australia's Paul Hanley, could only go as far as the quarterfinals where they lost to Bhupathi and Knowles\", 'hindi_sentence': 'आस्ट्रेलिया के पाल हेनली के साथ जोड़ी बनाने वाले पेस मियामी में क्वार्टरफाइनल तक ही पहुंच सके क्योंकि इस दौर में उन्हें भूपति और नोल्स ने हराया था।'}\n"
          ]
        }
      ]
    },
    {
      "cell_type": "code",
      "source": [
        "df = pd.DataFrame(train_data)\n",
        "df.head()"
      ],
      "metadata": {
        "colab": {
          "base_uri": "https://localhost:8080/",
          "height": 206
        },
        "id": "FYK_JrS4aqYy",
        "outputId": "2488c313-f684-4c0e-a5fe-dc9dddb953fb"
      },
      "execution_count": null,
      "outputs": [
        {
          "output_type": "execute_result",
          "data": {
            "text/plain": [
              "                                    english_sentence  \\\n",
              "0  However, Paes, who was partnering Australia's ...   \n",
              "1  Whosoever desires the reward of the world, wit...   \n",
              "2  The value of insects in the biosphere is enorm...   \n",
              "3  Mithali To Anchor Indian Team Against Australi...   \n",
              "4  After the assent of the Honble President on 8t...   \n",
              "\n",
              "                                      hindi_sentence  \n",
              "0  आस्ट्रेलिया के पाल हेनली के साथ जोड़ी बनाने वाल...  \n",
              "1  और जो शख्स (अपने आमाल का) बदला दुनिया ही में च...  \n",
              "2  जैव-मंडल में कीड़ों का मूल्य बहुत है, क्योंकि ...  \n",
              "3    आस्ट्रेलिया के खिलाफ वनडे टीम की कमान मिताली को  \n",
              "4  8 सितम्‍बर, 2016 को माननीय राष्‍ट्रपति की स्‍व...  "
            ],
            "text/html": [
              "\n",
              "  <div id=\"df-3f6c1ce9-31e5-4b77-a43b-54e01a120f33\" class=\"colab-df-container\">\n",
              "    <div>\n",
              "<style scoped>\n",
              "    .dataframe tbody tr th:only-of-type {\n",
              "        vertical-align: middle;\n",
              "    }\n",
              "\n",
              "    .dataframe tbody tr th {\n",
              "        vertical-align: top;\n",
              "    }\n",
              "\n",
              "    .dataframe thead th {\n",
              "        text-align: right;\n",
              "    }\n",
              "</style>\n",
              "<table border=\"1\" class=\"dataframe\">\n",
              "  <thead>\n",
              "    <tr style=\"text-align: right;\">\n",
              "      <th></th>\n",
              "      <th>english_sentence</th>\n",
              "      <th>hindi_sentence</th>\n",
              "    </tr>\n",
              "  </thead>\n",
              "  <tbody>\n",
              "    <tr>\n",
              "      <th>0</th>\n",
              "      <td>However, Paes, who was partnering Australia's ...</td>\n",
              "      <td>आस्ट्रेलिया के पाल हेनली के साथ जोड़ी बनाने वाल...</td>\n",
              "    </tr>\n",
              "    <tr>\n",
              "      <th>1</th>\n",
              "      <td>Whosoever desires the reward of the world, wit...</td>\n",
              "      <td>और जो शख्स (अपने आमाल का) बदला दुनिया ही में च...</td>\n",
              "    </tr>\n",
              "    <tr>\n",
              "      <th>2</th>\n",
              "      <td>The value of insects in the biosphere is enorm...</td>\n",
              "      <td>जैव-मंडल में कीड़ों का मूल्य बहुत है, क्योंकि ...</td>\n",
              "    </tr>\n",
              "    <tr>\n",
              "      <th>3</th>\n",
              "      <td>Mithali To Anchor Indian Team Against Australi...</td>\n",
              "      <td>आस्ट्रेलिया के खिलाफ वनडे टीम की कमान मिताली को</td>\n",
              "    </tr>\n",
              "    <tr>\n",
              "      <th>4</th>\n",
              "      <td>After the assent of the Honble President on 8t...</td>\n",
              "      <td>8 सितम्‍बर, 2016 को माननीय राष्‍ट्रपति की स्‍व...</td>\n",
              "    </tr>\n",
              "  </tbody>\n",
              "</table>\n",
              "</div>\n",
              "    <div class=\"colab-df-buttons\">\n",
              "\n",
              "  <div class=\"colab-df-container\">\n",
              "    <button class=\"colab-df-convert\" onclick=\"convertToInteractive('df-3f6c1ce9-31e5-4b77-a43b-54e01a120f33')\"\n",
              "            title=\"Convert this dataframe to an interactive table.\"\n",
              "            style=\"display:none;\">\n",
              "\n",
              "  <svg xmlns=\"http://www.w3.org/2000/svg\" height=\"24px\" viewBox=\"0 -960 960 960\">\n",
              "    <path d=\"M120-120v-720h720v720H120Zm60-500h600v-160H180v160Zm220 220h160v-160H400v160Zm0 220h160v-160H400v160ZM180-400h160v-160H180v160Zm440 0h160v-160H620v160ZM180-180h160v-160H180v160Zm440 0h160v-160H620v160Z\"/>\n",
              "  </svg>\n",
              "    </button>\n",
              "\n",
              "  <style>\n",
              "    .colab-df-container {\n",
              "      display:flex;\n",
              "      gap: 12px;\n",
              "    }\n",
              "\n",
              "    .colab-df-convert {\n",
              "      background-color: #E8F0FE;\n",
              "      border: none;\n",
              "      border-radius: 50%;\n",
              "      cursor: pointer;\n",
              "      display: none;\n",
              "      fill: #1967D2;\n",
              "      height: 32px;\n",
              "      padding: 0 0 0 0;\n",
              "      width: 32px;\n",
              "    }\n",
              "\n",
              "    .colab-df-convert:hover {\n",
              "      background-color: #E2EBFA;\n",
              "      box-shadow: 0px 1px 2px rgba(60, 64, 67, 0.3), 0px 1px 3px 1px rgba(60, 64, 67, 0.15);\n",
              "      fill: #174EA6;\n",
              "    }\n",
              "\n",
              "    .colab-df-buttons div {\n",
              "      margin-bottom: 4px;\n",
              "    }\n",
              "\n",
              "    [theme=dark] .colab-df-convert {\n",
              "      background-color: #3B4455;\n",
              "      fill: #D2E3FC;\n",
              "    }\n",
              "\n",
              "    [theme=dark] .colab-df-convert:hover {\n",
              "      background-color: #434B5C;\n",
              "      box-shadow: 0px 1px 3px 1px rgba(0, 0, 0, 0.15);\n",
              "      filter: drop-shadow(0px 1px 2px rgba(0, 0, 0, 0.3));\n",
              "      fill: #FFFFFF;\n",
              "    }\n",
              "  </style>\n",
              "\n",
              "    <script>\n",
              "      const buttonEl =\n",
              "        document.querySelector('#df-3f6c1ce9-31e5-4b77-a43b-54e01a120f33 button.colab-df-convert');\n",
              "      buttonEl.style.display =\n",
              "        google.colab.kernel.accessAllowed ? 'block' : 'none';\n",
              "\n",
              "      async function convertToInteractive(key) {\n",
              "        const element = document.querySelector('#df-3f6c1ce9-31e5-4b77-a43b-54e01a120f33');\n",
              "        const dataTable =\n",
              "          await google.colab.kernel.invokeFunction('convertToInteractive',\n",
              "                                                    [key], {});\n",
              "        if (!dataTable) return;\n",
              "\n",
              "        const docLinkHtml = 'Like what you see? Visit the ' +\n",
              "          '<a target=\"_blank\" href=https://colab.research.google.com/notebooks/data_table.ipynb>data table notebook</a>'\n",
              "          + ' to learn more about interactive tables.';\n",
              "        element.innerHTML = '';\n",
              "        dataTable['output_type'] = 'display_data';\n",
              "        await google.colab.output.renderOutput(dataTable, element);\n",
              "        const docLink = document.createElement('div');\n",
              "        docLink.innerHTML = docLinkHtml;\n",
              "        element.appendChild(docLink);\n",
              "      }\n",
              "    </script>\n",
              "  </div>\n",
              "\n",
              "\n",
              "    <div id=\"df-4da7fd67-b585-410c-ba90-0126cd07f3eb\">\n",
              "      <button class=\"colab-df-quickchart\" onclick=\"quickchart('df-4da7fd67-b585-410c-ba90-0126cd07f3eb')\"\n",
              "                title=\"Suggest charts\"\n",
              "                style=\"display:none;\">\n",
              "\n",
              "<svg xmlns=\"http://www.w3.org/2000/svg\" height=\"24px\"viewBox=\"0 0 24 24\"\n",
              "     width=\"24px\">\n",
              "    <g>\n",
              "        <path d=\"M19 3H5c-1.1 0-2 .9-2 2v14c0 1.1.9 2 2 2h14c1.1 0 2-.9 2-2V5c0-1.1-.9-2-2-2zM9 17H7v-7h2v7zm4 0h-2V7h2v10zm4 0h-2v-4h2v4z\"/>\n",
              "    </g>\n",
              "</svg>\n",
              "      </button>\n",
              "\n",
              "<style>\n",
              "  .colab-df-quickchart {\n",
              "      --bg-color: #E8F0FE;\n",
              "      --fill-color: #1967D2;\n",
              "      --hover-bg-color: #E2EBFA;\n",
              "      --hover-fill-color: #174EA6;\n",
              "      --disabled-fill-color: #AAA;\n",
              "      --disabled-bg-color: #DDD;\n",
              "  }\n",
              "\n",
              "  [theme=dark] .colab-df-quickchart {\n",
              "      --bg-color: #3B4455;\n",
              "      --fill-color: #D2E3FC;\n",
              "      --hover-bg-color: #434B5C;\n",
              "      --hover-fill-color: #FFFFFF;\n",
              "      --disabled-bg-color: #3B4455;\n",
              "      --disabled-fill-color: #666;\n",
              "  }\n",
              "\n",
              "  .colab-df-quickchart {\n",
              "    background-color: var(--bg-color);\n",
              "    border: none;\n",
              "    border-radius: 50%;\n",
              "    cursor: pointer;\n",
              "    display: none;\n",
              "    fill: var(--fill-color);\n",
              "    height: 32px;\n",
              "    padding: 0;\n",
              "    width: 32px;\n",
              "  }\n",
              "\n",
              "  .colab-df-quickchart:hover {\n",
              "    background-color: var(--hover-bg-color);\n",
              "    box-shadow: 0 1px 2px rgba(60, 64, 67, 0.3), 0 1px 3px 1px rgba(60, 64, 67, 0.15);\n",
              "    fill: var(--button-hover-fill-color);\n",
              "  }\n",
              "\n",
              "  .colab-df-quickchart-complete:disabled,\n",
              "  .colab-df-quickchart-complete:disabled:hover {\n",
              "    background-color: var(--disabled-bg-color);\n",
              "    fill: var(--disabled-fill-color);\n",
              "    box-shadow: none;\n",
              "  }\n",
              "\n",
              "  .colab-df-spinner {\n",
              "    border: 2px solid var(--fill-color);\n",
              "    border-color: transparent;\n",
              "    border-bottom-color: var(--fill-color);\n",
              "    animation:\n",
              "      spin 1s steps(1) infinite;\n",
              "  }\n",
              "\n",
              "  @keyframes spin {\n",
              "    0% {\n",
              "      border-color: transparent;\n",
              "      border-bottom-color: var(--fill-color);\n",
              "      border-left-color: var(--fill-color);\n",
              "    }\n",
              "    20% {\n",
              "      border-color: transparent;\n",
              "      border-left-color: var(--fill-color);\n",
              "      border-top-color: var(--fill-color);\n",
              "    }\n",
              "    30% {\n",
              "      border-color: transparent;\n",
              "      border-left-color: var(--fill-color);\n",
              "      border-top-color: var(--fill-color);\n",
              "      border-right-color: var(--fill-color);\n",
              "    }\n",
              "    40% {\n",
              "      border-color: transparent;\n",
              "      border-right-color: var(--fill-color);\n",
              "      border-top-color: var(--fill-color);\n",
              "    }\n",
              "    60% {\n",
              "      border-color: transparent;\n",
              "      border-right-color: var(--fill-color);\n",
              "    }\n",
              "    80% {\n",
              "      border-color: transparent;\n",
              "      border-right-color: var(--fill-color);\n",
              "      border-bottom-color: var(--fill-color);\n",
              "    }\n",
              "    90% {\n",
              "      border-color: transparent;\n",
              "      border-bottom-color: var(--fill-color);\n",
              "    }\n",
              "  }\n",
              "</style>\n",
              "\n",
              "      <script>\n",
              "        async function quickchart(key) {\n",
              "          const quickchartButtonEl =\n",
              "            document.querySelector('#' + key + ' button');\n",
              "          quickchartButtonEl.disabled = true;  // To prevent multiple clicks.\n",
              "          quickchartButtonEl.classList.add('colab-df-spinner');\n",
              "          try {\n",
              "            const charts = await google.colab.kernel.invokeFunction(\n",
              "                'suggestCharts', [key], {});\n",
              "          } catch (error) {\n",
              "            console.error('Error during call to suggestCharts:', error);\n",
              "          }\n",
              "          quickchartButtonEl.classList.remove('colab-df-spinner');\n",
              "          quickchartButtonEl.classList.add('colab-df-quickchart-complete');\n",
              "        }\n",
              "        (() => {\n",
              "          let quickchartButtonEl =\n",
              "            document.querySelector('#df-4da7fd67-b585-410c-ba90-0126cd07f3eb button');\n",
              "          quickchartButtonEl.style.display =\n",
              "            google.colab.kernel.accessAllowed ? 'block' : 'none';\n",
              "        })();\n",
              "      </script>\n",
              "    </div>\n",
              "\n",
              "    </div>\n",
              "  </div>\n"
            ],
            "application/vnd.google.colaboratory.intrinsic+json": {
              "type": "dataframe",
              "variable_name": "df"
            }
          },
          "metadata": {},
          "execution_count": 6
        }
      ]
    },
    {
      "cell_type": "code",
      "source": [
        "df = df.rename(columns={'english_sentence':'en','hindi_sentence':'hi'})\n",
        "df = df.dropna(subset=['en','hi'])"
      ],
      "metadata": {
        "id": "mvL3txJxazCF"
      },
      "execution_count": null,
      "outputs": []
    },
    {
      "cell_type": "code",
      "source": [
        "df = df.drop_duplicates(subset=['en', 'hi'])"
      ],
      "metadata": {
        "id": "nF5D6JzobzEF"
      },
      "execution_count": null,
      "outputs": []
    },
    {
      "cell_type": "code",
      "source": [
        "def clean_text(text):\n",
        "    if not isinstance(text, str):\n",
        "        return \"\"\n",
        "    # Normalize Unicode (removes irregular forms and zero-width joiners)\n",
        "    text = unicodedata.normalize('NFKC', text)\n",
        "    text = text.replace('\\u200d', '')  # remove zero-width joiner\n",
        "    text = re.sub(r'\\s+', ' ', text).strip()\n",
        "    return text\n",
        "\n",
        "df['en'] = df['en'].apply(clean_text)\n",
        "df['hi'] = df['hi'].apply(clean_text)"
      ],
      "metadata": {
        "id": "9qAN2H3fdXjv"
      },
      "execution_count": null,
      "outputs": []
    },
    {
      "cell_type": "code",
      "source": [
        "df.iloc[4,:].tolist()"
      ],
      "metadata": {
        "colab": {
          "base_uri": "https://localhost:8080/"
        },
        "id": "nXvrKpsXEaFF",
        "outputId": "439ab605-ac31-4cc7-f3fc-197685bcf6c3"
      },
      "execution_count": null,
      "outputs": [
        {
          "output_type": "execute_result",
          "data": {
            "text/plain": [
              "['After the assent of the Honble President on 8thSeptember, 2016, the 101thConstitutional Amendment Act, 2016 came into existence',\n",
              " '8 सितम्बर, 2016 को माननीय राष्ट्रपति की स्वीकृति मिलने के बाद 101वां संविधान संशोधन अधिनियम, 2016 अस्तित्व में आया']"
            ]
          },
          "metadata": {},
          "execution_count": 10
        }
      ]
    },
    {
      "cell_type": "code",
      "source": [
        "iqr = df['en'].str.len().quantile(0.75) - df['en'].str.len().quantile(0.25)\n",
        "outliers_en = df['en'].str.len().quantile(0.75) + (1.5*iqr)\n",
        "\n",
        "iqr = df['hi'].str.len().quantile(0.75) - df['hi'].str.len().quantile(0.25)\n",
        "outliers_hi = df['hi'].str.len().quantile(0.75) + (1.5*iqr)\n",
        "\n",
        "int(outliers_hi)"
      ],
      "metadata": {
        "colab": {
          "base_uri": "https://localhost:8080/"
        },
        "id": "0peSdJUweZT_",
        "outputId": "8542c24a-3311-48fb-92a0-6954d5b30999"
      },
      "execution_count": null,
      "outputs": [
        {
          "output_type": "execute_result",
          "data": {
            "text/plain": [
              "235"
            ]
          },
          "metadata": {},
          "execution_count": 11
        }
      ]
    },
    {
      "cell_type": "code",
      "source": [
        "df = df[(df['en'].str.len() < int(outliers_en))]\n",
        "df = df[(df['hi'].str.len() < int(outliers_hi))]"
      ],
      "metadata": {
        "id": "h8ch8dz0f0QI"
      },
      "execution_count": null,
      "outputs": []
    },
    {
      "cell_type": "code",
      "source": [
        "df.shape"
      ],
      "metadata": {
        "colab": {
          "base_uri": "https://localhost:8080/"
        },
        "id": "Rb6i4lSfElDp",
        "outputId": "c683d632-a92d-490d-c335-fb346567ec2c"
      },
      "execution_count": null,
      "outputs": [
        {
          "output_type": "execute_result",
          "data": {
            "text/plain": [
              "(118048, 2)"
            ]
          },
          "metadata": {},
          "execution_count": 13
        }
      ]
    },
    {
      "cell_type": "code",
      "source": [
        "import matplotlib.pyplot as plt\n",
        "\n",
        "plt.hist(df['en'].str.len(), bins=100)\n",
        "plt.title(\"English Sentence Length Distribution (After Filtering)\")\n",
        "plt.show()"
      ],
      "metadata": {
        "colab": {
          "base_uri": "https://localhost:8080/",
          "height": 452
        },
        "id": "1zNB-F0wg085",
        "outputId": "2abda3b2-2b6e-48f8-d071-8e0caa48f87e"
      },
      "execution_count": null,
      "outputs": [
        {
          "output_type": "display_data",
          "data": {
            "text/plain": [
              "<Figure size 640x480 with 1 Axes>"
            ],
            "image/png": "[encoded data removed]"
          },
          "metadata": {}
        }
      ]
    },
    {
      "cell_type": "code",
      "source": [
        "train_df,test_df = train_test_split(df,test_size=0.15,random_state=42,shuffle=True)\n",
        "print(len(train_df))\n",
        "print(len(test_df))"
      ],
      "metadata": {
        "colab": {
          "base_uri": "https://localhost:8080/"
        },
        "id": "1Bxp3fGbhkUj",
        "outputId": "4b563332-7f03-4f5e-d813-9d06337a9d44"
      },
      "execution_count": null,
      "outputs": [
        {
          "output_type": "stream",
          "name": "stdout",
          "text": [
            "100340\n",
            "17708\n"
          ]
        }
      ]
    },
    {
      "cell_type": "markdown",
      "source": [
        "## Training Tokenizer on the combined corpus"
      ],
      "metadata": {
        "id": "hg_INs4eADLj"
      }
    },
    {
      "cell_type": "code",
      "source": [
        "train_corpus = train_df['en'].tolist() + train_df['hi'].tolist()"
      ],
      "metadata": {
        "id": "mOFmsDSwA2Vr"
      },
      "execution_count": null,
      "outputs": []
    },
    {
      "cell_type": "code",
      "source": [
        "tokenizer = Tokenizer(models.BPE())\n",
        "tokenizer.normalizer = Sequence([NFKC(), Lowercase(), StripAccents()])\n",
        "tokenizer.pre_tokenizer = Whitespace()\n",
        "trainer = trainers.BpeTrainer(\n",
        "    vocab_size=20000,  # you can adjust between 16k–32k\n",
        "    min_frequency=2,\n",
        "    special_tokens=[\"<pad>\", \"<sos>\", \"<eos>\", \"<unk>\"]\n",
        ")\n",
        "tokenizer.train_from_iterator(train_corpus, trainer=trainer)\n",
        "tokenizer.save(\"bpe_tokenizer.json\")\n",
        "print(\"✅ Tokenizer training complete and saved!\")"
      ],
      "metadata": {
        "colab": {
          "base_uri": "https://localhost:8080/"
        },
        "id": "1u_yto5s-pv7",
        "outputId": "40a29983-fd87-4187-b6a6-478016839edd"
      },
      "execution_count": null,
      "outputs": [
        {
          "output_type": "stream",
          "name": "stdout",
          "text": [
            "✅ Tokenizer training complete and saved!\n"
          ]
        }
      ]
    },
    {
      "cell_type": "code",
      "source": [
        "tokenizer = Tokenizer.from_file('bpe_tokenizer.json')\n",
        "sample_en = \"After the assent of the Honble President on 8thSeptember, 2016, the 101thConstitutional Amendment Act, 2016 came into existence'\"\n",
        "sample_hi = \"8 सितम्\\u200dबर, 2016 को माननीय राष्\\u200dट्रपति की स्\\u200dवीकृति मिलने के बाद 101वां संविधान संशोधन अधिनियम, 2016 अस्तित्\\u200dव में आया']\"\n",
        "\n",
        "print(\"English:\", tokenizer.encode(sample_en).tokens)\n",
        "print(\"Hindi:\", tokenizer.encode(sample_hi).tokens)"
      ],
      "metadata": {
        "colab": {
          "base_uri": "https://localhost:8080/"
        },
        "id": "6Ud5p3hvBw37",
        "outputId": "4ad59bd6-0f9d-472e-bda3-37a758740a70"
      },
      "execution_count": null,
      "outputs": [
        {
          "output_type": "stream",
          "name": "stdout",
          "text": [
            "English: ['after', 'the', 'assent', 'of', 'the', 'hon', 'ble', 'president', 'on', '8th', 'september', ',', '20', '16', ',', 'the', '101', 'th', 'constitutional', 'amendment', 'act', ',', '20', '16', 'came', 'into', 'existence', \"'\"]\n",
            "Hindi: ['8', 'सतमबर', ',', '20', '16', 'क', 'मन', 'नय', 'रषटरपत', 'क', 'सवकत', 'मलन', 'क', 'बद', '101', 'व', 'सवधन', 'सशधन', 'अधनयम', ',', '20', '16', 'असततव', 'म', 'आय', \"'\", ']']\n"
          ]
        }
      ]
    },
    {
      "cell_type": "code",
      "source": [
        "sos_id = tokenizer.token_to_id('<sos>')\n",
        "eos_id = tokenizer.token_to_id('<eos>')\n",
        "def encode_texts(text,tokenizer):\n",
        "  return text.apply(lambda x: [sos_id]+tokenizer.encode(x).ids+[eos_id])"
      ],
      "metadata": {
        "id": "bN7f6ikkCRau"
      },
      "execution_count": null,
      "outputs": []
    },
    {
      "cell_type": "code",
      "source": [
        "train_df['input_ids'] = encode_texts(train_df['en'],tokenizer)\n",
        "train_df['target_ids'] = encode_texts(train_df['hi'],tokenizer)\n",
        "\n",
        "test_df['input_ids'] = encode_texts(test_df['en'],tokenizer)\n",
        "test_df['target_ids'] = encode_texts(test_df['hi'],tokenizer)"
      ],
      "metadata": {
        "id": "PY3JltSEF_0U"
      },
      "execution_count": null,
      "outputs": []
    },
    {
      "cell_type": "code",
      "source": [
        "pad_id = tokenizer.token_to_id('<pad>')\n",
        "# def pad_sequences(sequences,pad_token=pad_id):\n",
        "#   return pad_sequence([torch.tensor(seq) for seq in sequences],batch_first=True,padding_value=pad_token)\n",
        "\n",
        "# train_input_padded = pad_sequences(train_df['input_ids'])\n",
        "# train_target_padded = pad_sequences(train_df['target_ids'])\n",
        "\n",
        "# test_input_padded = pad_sequences(test_df['input_ids'])\n",
        "# test_target_padded = pad_sequences(test_df['target_ids'])"
      ],
      "metadata": {
        "id": "VskLv2mGMzWK"
      },
      "execution_count": null,
      "outputs": []
    },
    {
      "cell_type": "markdown",
      "source": [
        "## Creating Dataset and DataLoader"
      ],
      "metadata": {
        "id": "RqCekmbPWEei"
      }
    },
    {
      "cell_type": "code",
      "source": [
        "class TranslationDataset(Dataset):\n",
        "  def __init__(self,input,target):\n",
        "    self.input = input\n",
        "    self.target = target\n",
        "\n",
        "  def __len__(self):\n",
        "    return len(self.input)\n",
        "\n",
        "  def __getitem__(self,idx):\n",
        "    return torch.tensor(self.input[idx]), torch.tensor(self.target[idx])"
      ],
      "metadata": {
        "id": "iDSsVYbVM0QR"
      },
      "execution_count": null,
      "outputs": []
    },
    {
      "cell_type": "code",
      "source": [
        "def collate_fn(batch):\n",
        "    src_batch, tgt_batch = zip(*batch)\n",
        "    src_padded = pad_sequence(src_batch, batch_first=True, padding_value=pad_id)\n",
        "    tgt_padded = pad_sequence(tgt_batch, batch_first=True, padding_value=pad_id)\n",
        "    return src_padded, tgt_padded"
      ],
      "metadata": {
        "id": "_FU-hVLlLj4a"
      },
      "execution_count": null,
      "outputs": []
    },
    {
      "cell_type": "code",
      "source": [
        "train_dataset = TranslationDataset(train_df['input_ids'].tolist(), train_df['target_ids'].tolist())\n",
        "train_loader = DataLoader(train_dataset, batch_size=64, shuffle=True, collate_fn=collate_fn, num_workers=2, pin_memory=True)\n",
        "\n",
        "test_dataset = TranslationDataset(test_df['input_ids'].tolist(), test_df['target_ids'].tolist())\n",
        "test_loader = DataLoader(test_dataset,batch_size=64,shuffle=False,collate_fn=collate_fn,pin_memory=True)"
      ],
      "metadata": {
        "id": "Rc-DYPtlOru9"
      },
      "execution_count": null,
      "outputs": []
    },
    {
      "cell_type": "code",
      "source": [
        "def create_padding_mask(seq,pad_token_id=pad_id):\n",
        "  mask = (seq!=pad_token_id).unsqueeze(1).unsqueeze(2)\n",
        "  return mask.bool()"
      ],
      "metadata": {
        "id": "MuRKBmSqiGYb"
      },
      "execution_count": null,
      "outputs": []
    },
    {
      "cell_type": "code",
      "source": [
        "def create_causal_mask(seq_len, device):\n",
        "    mask = torch.tril(torch.ones(seq_len, seq_len, device=device,dtype=torch.bool))\n",
        "    return mask.unsqueeze(0).unsqueeze(0)"
      ],
      "metadata": {
        "id": "bIqnu7MOmLvz"
      },
      "execution_count": null,
      "outputs": []
    },
    {
      "cell_type": "markdown",
      "source": [
        "## Transformer Architecture"
      ],
      "metadata": {
        "id": "pJL0o2_KWKzJ"
      }
    },
    {
      "cell_type": "code",
      "source": [
        "class PositionalEncoding(nn.Module):\n",
        "  def __init__(self,embd_dims,max_len=5000):\n",
        "    super().__init__()\n",
        "    pe = torch.zeros(max_len,embd_dims)\n",
        "    pos = torch.arange(0,max_len).float().unsqueeze(1)\n",
        "    den = torch.exp(torch.arange(0,embd_dims,2).float() * -(math.log(10000.0)/embd_dims))\n",
        "    pe[:,0::2] = torch.sin(pos*den)\n",
        "    pe[:,1::2] = torch.cos(pos*den)\n",
        "    pe = pe.unsqueeze(0)\n",
        "    self.register_buffer('pe', pe)\n",
        "\n",
        "  def forward(self,x):\n",
        "    return x + self.pe[:,:x.size(1),:]"
      ],
      "metadata": {
        "id": "KooVdjV-p4QI"
      },
      "execution_count": null,
      "outputs": []
    },
    {
      "cell_type": "code",
      "source": [
        "def self_attention(q,k,v,padding_mask=None):\n",
        "  d_k = k.size(-1)\n",
        "  scores = torch.matmul(q,k.transpose(-2,-1))/math.sqrt(d_k)\n",
        "  if padding_mask is not None:\n",
        "    scores = scores.masked_fill(~padding_mask, float('-inf'))\n",
        "  weights = torch.softmax(scores,dim=-1)\n",
        "  weights = torch.nan_to_num(weights, 0.0)\n",
        "  return torch.matmul(weights,v)"
      ],
      "metadata": {
        "id": "CeK_0hAzhYaC"
      },
      "execution_count": null,
      "outputs": []
    },
    {
      "cell_type": "code",
      "source": [
        "class MultiHeadAttention(nn.Module):\n",
        "  def __init__(self,n_heads,d_model):\n",
        "    super().__init__()\n",
        "    assert d_model % n_heads == 0\n",
        "    self.d_head = d_model//n_heads\n",
        "    self.h = n_heads\n",
        "\n",
        "    self.W_q = nn.Linear(d_model,d_model)\n",
        "    self.W_k = nn.Linear(d_model,d_model)\n",
        "    self.W_v = nn.Linear(d_model,d_model)\n",
        "    self.final_projection = nn.Linear(d_model,d_model)\n",
        "\n",
        "  def forward(self,q,k,v,padding_mask=None):\n",
        "    B,T_q,D = q.size()\n",
        "    _,T_k,_ = k.size()\n",
        "    Q = self.W_q(q).view(B,T_q,self.h,self.d_head).transpose(1,2)\n",
        "    K = self.W_k(k).view(B,T_k,self.h,self.d_head).transpose(1,2)\n",
        "    V = self.W_v(v).view(B,T_k,self.h,self.d_head).transpose(1,2)\n",
        "\n",
        "    # if self.mask is True:\n",
        "    #   x = masked_attention(Q,K,V,padding_mask)\n",
        "    # else:\n",
        "    #   x = self_attention(Q,K,V,padding_mask)\n",
        "    x = self_attention(Q,K,V,padding_mask)\n",
        "\n",
        "    x = x.transpose(1,2).contiguous().view(B,T_q,D)\n",
        "    return self.final_projection(x)"
      ],
      "metadata": {
        "id": "esNBJU29p8xF"
      },
      "execution_count": null,
      "outputs": []
    },
    {
      "cell_type": "code",
      "source": [
        "class FeedForward(nn.Module):\n",
        "  def __init__(self,d_model,d_ff,dropout=0.1):\n",
        "    super().__init__()\n",
        "    self.ff = nn.Sequential(\n",
        "        nn.Linear(d_model,d_ff),\n",
        "        nn.ReLU(),\n",
        "        nn.Dropout(dropout),\n",
        "        nn.Linear(d_ff,d_model),\n",
        "        nn.Dropout(dropout)\n",
        "    )\n",
        "\n",
        "  def forward(self,x):\n",
        "    return self.ff(x)"
      ],
      "metadata": {
        "id": "N9gG1OljZnwz"
      },
      "execution_count": null,
      "outputs": []
    },
    {
      "cell_type": "markdown",
      "source": [
        "### Encoder"
      ],
      "metadata": {
        "id": "vFv5ohFm8YeK"
      }
    },
    {
      "cell_type": "code",
      "source": [
        "class EncoderLayer(nn.Module):\n",
        "  def __init__(self,n_heads,d_model,d_ff,dropout=0.1):\n",
        "    super().__init__()\n",
        "    self.Attention = MultiHeadAttention(n_heads,d_model)\n",
        "    self.FeedForward = FeedForward(d_model,d_ff,dropout)\n",
        "    self.norm1 = nn.LayerNorm(d_model)\n",
        "    self.norm2 = nn.LayerNorm(d_model)\n",
        "    self.dropout = nn.Dropout(dropout)\n",
        "\n",
        "  def forward(self,x,src_mask):\n",
        "    z_norm = self.norm1(x + self.dropout(self.Attention(x,x,x,src_mask)))\n",
        "    y_norm = self.norm2(z_norm + self.dropout(self.FeedForward(z_norm)))\n",
        "    return y_norm"
      ],
      "metadata": {
        "id": "lEHdoNkox7cu"
      },
      "execution_count": null,
      "outputs": []
    },
    {
      "cell_type": "markdown",
      "source": [
        "### Decoder"
      ],
      "metadata": {
        "id": "5gDDWC9IAWe0"
      }
    },
    {
      "cell_type": "code",
      "source": [
        "class DecoderLayer(nn.Module):\n",
        "  def __init__(self,n_heads,d_model,d_ff,dropout=0.1):\n",
        "    super().__init__()\n",
        "    self.masked_attention = MultiHeadAttention(n_heads,d_model)\n",
        "    self.CrossAttention = MultiHeadAttention(n_heads,d_model)\n",
        "    self.FeedForward = FeedForward(d_model,d_ff,dropout)\n",
        "    self.norm1 = nn.LayerNorm(d_model)\n",
        "    self.norm2 = nn.LayerNorm(d_model)\n",
        "    self.norm3 = nn.LayerNorm(d_model)\n",
        "    self.dropout = nn.Dropout(dropout)\n",
        "\n",
        "  def forward(self,x,enc_outs,tgt_mask,src_mask):\n",
        "    z_norm = self.norm1(x + self.dropout(self.masked_attention(x,x,x,tgt_mask)))\n",
        "    zc_norm = self.norm2(z_norm + self.dropout(self.CrossAttention(z_norm,enc_outs,enc_outs,src_mask)))\n",
        "    y_norm =  self.norm3(zc_norm + self.dropout(self.FeedForward(zc_norm)))\n",
        "    return y_norm"
      ],
      "metadata": {
        "id": "rpZo9MKgAVWx"
      },
      "execution_count": null,
      "outputs": []
    },
    {
      "cell_type": "code",
      "source": [
        "class Transformer(nn.Module):\n",
        "  def __init__(self,d_model,n_heads,d_ff,vocab_size,N_enc=6,N_dec=6,dropout=0.1,max_len=5000,padding_idx=pad_id):\n",
        "    super().__init__()\n",
        "    self.padding_idx = padding_idx\n",
        "    self.d_model=d_model\n",
        "    self.embedding = nn.Embedding(vocab_size, d_model, padding_idx=padding_idx)\n",
        "    self.pos_encoding = PositionalEncoding(d_model, max_len)\n",
        "    self.encoder_layers = nn.ModuleList([\n",
        "                EncoderLayer(n_heads, d_model, d_ff, dropout) for _ in range(N_enc)\n",
        "            ])\n",
        "    self.encoder_norm = nn.LayerNorm(d_model)\n",
        "    self.decoder_layers = nn.ModuleList([\n",
        "                DecoderLayer(n_heads, d_model, d_ff, dropout) for _ in range(N_dec)\n",
        "            ])\n",
        "    self.decoder_norm = nn.LayerNorm(d_model)\n",
        "    self.projection = nn.Linear(d_model,vocab_size)\n",
        "    self._init_weights()\n",
        "\n",
        "  def _init_weights(self):\n",
        "        for p in self.parameters():\n",
        "            if p.dim() > 1:\n",
        "                nn.init.xavier_uniform_(p)\n",
        "\n",
        "  def encode(self, src, src_mask):\n",
        "        x = self.embedding(src) * math.sqrt(self.d_model)\n",
        "        x = self.pos_encoding(x)\n",
        "        for layer in self.encoder_layers:\n",
        "            x = layer(x, src_mask)\n",
        "        return self.encoder_norm(x)\n",
        "\n",
        "  def decode(self, tgt, enc_output, tgt_mask, src_mask):\n",
        "        x = self.embedding(tgt) * math.sqrt(self.d_model)\n",
        "        x = self.pos_encoding(x)\n",
        "\n",
        "        for layer in self.decoder_layers:\n",
        "            x = layer(x, enc_output, tgt_mask, src_mask)\n",
        "\n",
        "        return self.decoder_norm(x)\n",
        "\n",
        "  def forward(self, src, tgt):\n",
        "        src_mask = create_padding_mask(src, self.padding_idx)\n",
        "        tgt_padding_mask = create_padding_mask(tgt, self.padding_idx)\n",
        "        tgt_causal_mask = create_causal_mask(tgt.size(1), tgt.device)\n",
        "\n",
        "        tgt_mask = tgt_padding_mask & tgt_causal_mask\n",
        "\n",
        "        enc_output = self.encode(src, src_mask)\n",
        "        dec_output = self.decode(tgt, enc_output, tgt_mask, src_mask)\n",
        "\n",
        "        logits = self.projection(dec_output)\n",
        "        return logits"
      ],
      "metadata": {
        "id": "0k-rdSFpHxYp"
      },
      "execution_count": null,
      "outputs": []
    },
    {
      "cell_type": "code",
      "source": [
        "def get_lr(step, d_model, warmup_steps=4000):\n",
        "    \"\"\"Learning rate schedule with warmup\"\"\"\n",
        "    step = max(step, 1)\n",
        "    return (d_model ** -0.5) * min(step ** -0.5, step * (warmup_steps ** -1.5))"
      ],
      "metadata": {
        "id": "7dppPMQE4iFz"
      },
      "execution_count": null,
      "outputs": []
    },
    {
      "cell_type": "code",
      "source": [
        "def train_epoch(model, loader, optimizer, criterion, device, scaler, step):\n",
        "    model.train()\n",
        "    total_loss = 0\n",
        "    progress_bar = tqdm(loader, desc=\"Training\", leave=False)\n",
        "\n",
        "    for batch in progress_bar:\n",
        "        src, tgt = batch\n",
        "        src = src.to(device)\n",
        "        tgt = tgt.to(device)\n",
        "\n",
        "        # Prepare decoder input and target\n",
        "        tgt_input = tgt[:, :-1]\n",
        "        tgt_output = tgt[:, 1:].contiguous().view(-1)\n",
        "\n",
        "        # Update learning rate with warmup\n",
        "        lr = get_lr(step, model.d_model, warmup_steps=4000)\n",
        "        for param_group in optimizer.param_groups:\n",
        "            param_group['lr'] = lr\n",
        "\n",
        "        optimizer.zero_grad()\n",
        "\n",
        "        # Mixed precision training\n",
        "        with torch.autocast(device_type='cuda', dtype=torch.bfloat16, enabled=(device.type=='cuda')):\n",
        "            logits = model(src, tgt_input)\n",
        "            logits = logits.view(-1, logits.size(-1))\n",
        "            loss = criterion(logits, tgt_output)\n",
        "\n",
        "        # Backward pass\n",
        "        scaler.scale(loss).backward()\n",
        "        scaler.unscale_(optimizer)\n",
        "        clip_grad_norm_(model.parameters(), max_norm=1.0)\n",
        "        scaler.step(optimizer)\n",
        "        scaler.update()\n",
        "\n",
        "        total_loss += loss.item()\n",
        "        step += 1\n",
        "\n",
        "        progress_bar.set_postfix({\"loss\": f\"{loss.item():.4f}\", \"lr\": f\"{lr:.6f}\"})\n",
        "\n",
        "    return total_loss / len(loader), step"
      ],
      "metadata": {
        "id": "f9POK5Eq42iZ"
      },
      "execution_count": null,
      "outputs": []
    },
    {
      "cell_type": "code",
      "source": [
        "def evaluate(model, loader, criterion, device):\n",
        "    model.eval()\n",
        "    total_loss = 0\n",
        "\n",
        "    with torch.no_grad():\n",
        "        for batch in tqdm(loader, desc=\"Evaluating\", leave=False):\n",
        "            src, tgt = batch\n",
        "            src = src.to(device)\n",
        "            tgt = tgt.to(device)\n",
        "\n",
        "            tgt_input = tgt[:, :-1]\n",
        "            tgt_output = tgt[:, 1:].contiguous().view(-1)\n",
        "\n",
        "            with torch.autocast(device_type='cuda', dtype=torch.bfloat16, enabled=(device.type=='cuda')):\n",
        "                logits = model(src, tgt_input)\n",
        "                logits = logits.view(-1, logits.size(-1))\n",
        "                loss = criterion(logits, tgt_output)\n",
        "\n",
        "            total_loss += loss.item()\n",
        "\n",
        "    return total_loss / len(loader)"
      ],
      "metadata": {
        "id": "dQ8BcqJv6OVH"
      },
      "execution_count": null,
      "outputs": []
    },
    {
      "cell_type": "code",
      "source": [
        "def translate_sentence(model, sentence, tokenizer, device, max_len=100):\n",
        "    \"\"\"Translate a single sentence using greedy decoding\"\"\"\n",
        "    model.eval()\n",
        "\n",
        "    with torch.no_grad():\n",
        "        # Encode source sentence\n",
        "        src_tokens = tokenizer.encode(sentence).ids\n",
        "        src = [sos_id] + src_tokens + [eos_id]\n",
        "        src = torch.LongTensor(src).unsqueeze(0).to(device)\n",
        "\n",
        "        # Encode source\n",
        "        src_mask = create_padding_mask(src, pad_id)\n",
        "        enc_output = model.encode(src, src_mask)\n",
        "\n",
        "        # Initialize target with <sos>\n",
        "        tgt_tokens = [sos_id]\n",
        "\n",
        "        for _ in range(max_len):\n",
        "            tgt = torch.LongTensor(tgt_tokens).unsqueeze(0).to(device)\n",
        "            tgt_padding_mask = create_padding_mask(tgt, pad_id)\n",
        "            tgt_causal_mask = create_causal_mask(tgt.size(1), device)\n",
        "            tgt_mask = tgt_padding_mask & tgt_causal_mask\n",
        "\n",
        "            # Decode\n",
        "            dec_output = model.decode(tgt, enc_output, tgt_mask, src_mask)\n",
        "            logits = model.projection(dec_output)\n",
        "\n",
        "            # Get next token\n",
        "            next_token = logits[:, -1, :].argmax(dim=-1).item()\n",
        "            tgt_tokens.append(next_token)\n",
        "\n",
        "            # Stop if <eos> is predicted\n",
        "            if next_token == eos_id:\n",
        "                break\n",
        "\n",
        "        # Decode to text (remove <sos> and <eos>)\n",
        "        output_tokens = [t for t in tgt_tokens[1:] if t not in [sos_id, eos_id, pad_id]]\n",
        "        translated = tokenizer.decode(output_tokens)\n",
        "\n",
        "    return translated"
      ],
      "metadata": {
        "id": "DWp3u012GGPF"
      },
      "execution_count": null,
      "outputs": []
    },
    {
      "cell_type": "code",
      "source": [
        "DEVICE = torch.device(\"cuda\" if torch.cuda.is_available() else \"cpu\")\n",
        "VOCAB_SIZE = tokenizer.get_vocab_size()\n",
        "D_MODEL = 512\n",
        "N_HEADS = 8\n",
        "D_FF = 2048\n",
        "N_ENC = 6\n",
        "N_DEC = 6\n",
        "DROPOUT = 0.1\n",
        "\n",
        "EPOCHS = 30\n",
        "ACCUMULATION_STEPS = 2\n",
        "model = Transformer(D_MODEL, N_HEADS, D_FF, VOCAB_SIZE,\n",
        "                    N_enc=N_ENC, N_dec=N_DEC, dropout=DROPOUT).to(DEVICE)\n",
        "\n",
        "print(f\"\\nModel parameters: {sum(p.numel() for p in model.parameters()) / 1e6:.2f}M\")"
      ],
      "metadata": {
        "id": "oB7NeLNd5OTO",
        "colab": {
          "base_uri": "https://localhost:8080/"
        },
        "outputId": "d1b7ff67-5581-42eb-d7af-6254d210a5c6"
      },
      "execution_count": null,
      "outputs": [
        {
          "output_type": "stream",
          "name": "stdout",
          "text": [
            "\n",
            "Model parameters: 64.64M\n"
          ]
        }
      ]
    },
    {
      "cell_type": "code",
      "source": [
        "optimizer = optim.AdamW(model.parameters(), lr=1.0, betas=(0.9, 0.98), eps=1e-9)\n",
        "criterion = nn.CrossEntropyLoss(ignore_index=pad_id, label_smoothing=0.1)\n",
        "scaler = torch.cuda.amp.GradScaler(enabled=(DEVICE.type=='cuda'))\n",
        "\n",
        "best_val_loss = float('inf')\n",
        "step = 1\n",
        "\n",
        "for epoch in range(EPOCHS):\n",
        "  print(f\"\\n{'='*60}\")\n",
        "  print(f\"Epoch {epoch + 1}/{EPOCHS}\")\n",
        "  print(f\"{'='*60}\")\n",
        "\n",
        "  train_loss, step = train_epoch(model, train_loader, optimizer, criterion,\n",
        "                                       DEVICE, scaler, step)\n",
        "  val_loss = evaluate(model, test_loader, criterion, DEVICE)\n",
        "\n",
        "  print(f\"Train Loss: {train_loss:.4f} | Val Loss: {val_loss:.4f}\")\n",
        "\n",
        "        # Save best model\n",
        "  if val_loss < best_val_loss:\n",
        "    best_val_loss = val_loss\n",
        "    torch.save({\n",
        "                'epoch': epoch,\n",
        "                'model_state_dict': model.state_dict(),\n",
        "                'optimizer_state_dict': optimizer.state_dict(),\n",
        "                'val_loss': val_loss,\n",
        "            }, '/content/drive/MyDrive/best_transformer_nmt.pth')\n",
        "    print(\"✅ Saved best model!\")\n",
        "\n",
        "  if (epoch + 1) % 5 == 0:\n",
        "            test_sentences = [\n",
        "                \"How are you?\",\n",
        "                \"I love machine learning.\",\n",
        "                \"The weather is nice today.\"\n",
        "            ]\n",
        "            print(\"\\n--- Sample Translations ---\")\n",
        "            for sent in test_sentences:\n",
        "                translation = translate_sentence(model, sent, tokenizer, DEVICE)\n",
        "                print(f\"EN: {sent}\")\n",
        "                print(f\"HI: {translation}\\n\")\n",
        "\n",
        "  print(\"\\n✅ Training complete!\")"
      ],
      "metadata": {
        "id": "xOfKhfu955E3",
        "colab": {
          "base_uri": "https://localhost:8080/"
        },
        "outputId": "95c2104c-d3a3-4998-e19a-4899a5df103b",
        "collapsed": true
      },
      "execution_count": null,
      "outputs": [
        {
          "output_type": "stream",
          "name": "stderr",
          "text": [
            "/tmp/ipython-input-947758447.py:3: FutureWarning: `torch.cuda.amp.GradScaler(args...)` is deprecated. Please use `torch.amp.GradScaler('cuda', args...)` instead.\n",
            "  scaler = torch.cuda.amp.GradScaler(enabled=(DEVICE.type=='cuda'))\n"
          ]
        },
        {
          "output_type": "stream",
          "name": "stdout",
          "text": [
            "\n",
            "============================================================\n",
            "Epoch 1/30\n",
            "============================================================\n"
          ]
        },
        {
          "output_type": "stream",
          "name": "stderr",
          "text": []
        },
        {
          "output_type": "stream",
          "name": "stdout",
          "text": [
            "Train Loss: 6.6457 | Val Loss: 5.9173\n",
            "✅ Saved best model!\n",
            "\n",
            "✅ Training complete!\n",
            "\n",
            "============================================================\n",
            "Epoch 2/30\n",
            "============================================================\n"
          ]
        },
        {
          "output_type": "stream",
          "name": "stderr",
          "text": []
        },
        {
          "output_type": "stream",
          "name": "stdout",
          "text": [
            "Train Loss: 5.7578 | Val Loss: 5.6504\n",
            "✅ Saved best model!\n",
            "\n",
            "✅ Training complete!\n",
            "\n",
            "============================================================\n",
            "Epoch 3/30\n",
            "============================================================\n"
          ]
        },
        {
          "output_type": "stream",
          "name": "stderr",
          "text": []
        },
        {
          "output_type": "stream",
          "name": "stdout",
          "text": [
            "Train Loss: 5.5766 | Val Loss: 5.5354\n",
            "✅ Saved best model!\n",
            "\n",
            "✅ Training complete!\n",
            "\n",
            "============================================================\n",
            "Epoch 4/30\n",
            "============================================================\n"
          ]
        },
        {
          "output_type": "stream",
          "name": "stderr",
          "text": []
        },
        {
          "output_type": "stream",
          "name": "stdout",
          "text": [
            "Train Loss: 5.4370 | Val Loss: 5.4173\n",
            "✅ Saved best model!\n",
            "\n",
            "✅ Training complete!\n",
            "\n",
            "============================================================\n",
            "Epoch 5/30\n",
            "============================================================\n"
          ]
        },
        {
          "output_type": "stream",
          "name": "stderr",
          "text": []
        },
        {
          "output_type": "stream",
          "name": "stdout",
          "text": [
            "Train Loss: 5.3117 | Val Loss: 5.3265\n",
            "✅ Saved best model!\n",
            "\n",
            "--- Sample Translations ---\n",
            "EN: How are you?\n",
            "HI: कय ह ?\n",
            "\n",
            "EN: I love machine learning.\n",
            "HI: म अपन कहनय क सथ\n",
            "\n",
            "EN: The weather is nice today.\n",
            "HI: यह बहत धनयवद ।\n",
            "\n",
            "\n",
            "✅ Training complete!\n",
            "\n",
            "============================================================\n",
            "Epoch 6/30\n",
            "============================================================\n"
          ]
        },
        {
          "output_type": "stream",
          "name": "stderr",
          "text": []
        },
        {
          "output_type": "stream",
          "name": "stdout",
          "text": [
            "Train Loss: 5.2006 | Val Loss: 5.2611\n",
            "✅ Saved best model!\n",
            "\n",
            "✅ Training complete!\n",
            "\n",
            "============================================================\n",
            "Epoch 7/30\n",
            "============================================================\n"
          ]
        },
        {
          "output_type": "stream",
          "name": "stderr",
          "text": []
        },
        {
          "output_type": "stream",
          "name": "stdout",
          "text": [
            "Train Loss: 5.1084 | Val Loss: 5.1946\n",
            "✅ Saved best model!\n",
            "\n",
            "✅ Training complete!\n",
            "\n",
            "============================================================\n",
            "Epoch 8/30\n",
            "============================================================\n"
          ]
        },
        {
          "output_type": "stream",
          "name": "stderr",
          "text": []
        },
        {
          "output_type": "stream",
          "name": "stdout",
          "text": [
            "Train Loss: 5.0223 | Val Loss: 5.1561\n",
            "✅ Saved best model!\n",
            "\n",
            "✅ Training complete!\n",
            "\n",
            "============================================================\n",
            "Epoch 9/30\n",
            "============================================================\n"
          ]
        },
        {
          "output_type": "stream",
          "name": "stderr",
          "text": []
        },
        {
          "output_type": "stream",
          "name": "stdout",
          "text": [
            "Train Loss: 4.9426 | Val Loss: 5.0961\n",
            "✅ Saved best model!\n",
            "\n",
            "✅ Training complete!\n",
            "\n",
            "============================================================\n",
            "Epoch 10/30\n",
            "============================================================\n"
          ]
        },
        {
          "output_type": "stream",
          "name": "stderr",
          "text": []
        },
        {
          "output_type": "stream",
          "name": "stdout",
          "text": [
            "Train Loss: 4.8686 | Val Loss: 5.0544\n",
            "✅ Saved best model!\n",
            "\n",
            "--- Sample Translations ---\n",
            "EN: How are you?\n",
            "HI: कय ह ?\n",
            "\n",
            "EN: I love machine learning.\n",
            "HI: म बहत बहत बहत बहत बहत बहत अचछ ह ।\n",
            "\n",
            "EN: The weather is nice today.\n",
            "HI: यह क भ बहत ह महतवपरण ह ।\n",
            "\n",
            "\n",
            "✅ Training complete!\n",
            "\n",
            "============================================================\n",
            "Epoch 11/30\n",
            "============================================================\n"
          ]
        },
        {
          "output_type": "stream",
          "name": "stderr",
          "text": []
        },
        {
          "output_type": "stream",
          "name": "stdout",
          "text": [
            "Train Loss: 4.7981 | Val Loss: 5.0109\n",
            "✅ Saved best model!\n",
            "\n",
            "✅ Training complete!\n",
            "\n",
            "============================================================\n",
            "Epoch 12/30\n",
            "============================================================\n"
          ]
        },
        {
          "output_type": "stream",
          "name": "stderr",
          "text": []
        },
        {
          "output_type": "stream",
          "name": "stdout",
          "text": [
            "Train Loss: 4.7346 | Val Loss: 4.9855\n",
            "✅ Saved best model!\n",
            "\n",
            "✅ Training complete!\n",
            "\n",
            "============================================================\n",
            "Epoch 13/30\n",
            "============================================================\n"
          ]
        },
        {
          "output_type": "stream",
          "name": "stderr",
          "text": []
        },
        {
          "output_type": "stream",
          "name": "stdout",
          "text": [
            "Train Loss: 4.6740 | Val Loss: 4.9538\n",
            "✅ Saved best model!\n",
            "\n",
            "✅ Training complete!\n",
            "\n",
            "============================================================\n",
            "Epoch 14/30\n",
            "============================================================\n"
          ]
        },
        {
          "output_type": "stream",
          "name": "stderr",
          "text": []
        },
        {
          "output_type": "stream",
          "name": "stdout",
          "text": [
            "Train Loss: 4.6188 | Val Loss: 4.9298\n",
            "✅ Saved best model!\n",
            "\n",
            "✅ Training complete!\n",
            "\n",
            "============================================================\n",
            "Epoch 15/30\n",
            "============================================================\n"
          ]
        },
        {
          "output_type": "stream",
          "name": "stderr",
          "text": []
        },
        {
          "output_type": "stream",
          "name": "stdout",
          "text": [
            "Train Loss: 4.5639 | Val Loss: 4.9044\n",
            "✅ Saved best model!\n",
            "\n",
            "--- Sample Translations ---\n",
            "EN: How are you?\n",
            "HI: कय आप कय कर सकत ह ?\n",
            "\n",
            "EN: I love machine learning.\n",
            "HI: म सखन चहत ह .\n",
            "\n",
            "EN: The weather is nice today.\n",
            "HI: यह बहत स अधक लकपरय ह ।\n",
            "\n",
            "\n",
            "✅ Training complete!\n",
            "\n",
            "============================================================\n",
            "Epoch 16/30\n",
            "============================================================\n"
          ]
        },
        {
          "output_type": "stream",
          "name": "stderr",
          "text": []
        },
        {
          "output_type": "stream",
          "name": "stdout",
          "text": [
            "Train Loss: 4.5151 | Val Loss: 4.8843\n",
            "✅ Saved best model!\n",
            "\n",
            "✅ Training complete!\n",
            "\n",
            "============================================================\n",
            "Epoch 17/30\n",
            "============================================================\n"
          ]
        },
        {
          "output_type": "stream",
          "name": "stderr",
          "text": []
        },
        {
          "output_type": "stream",
          "name": "stdout",
          "text": [
            "Train Loss: 4.4692 | Val Loss: 4.8726\n",
            "✅ Saved best model!\n",
            "\n",
            "✅ Training complete!\n",
            "\n",
            "============================================================\n",
            "Epoch 18/30\n",
            "============================================================\n"
          ]
        },
        {
          "output_type": "stream",
          "name": "stderr",
          "text": [
            "Training:  40%|███▉      | 624/1568 [05:00<07:11,  2.19it/s, loss=4.7025, lr=0.000268]"
          ]
        }
      ]
    },
    {
      "cell_type": "code",
      "source": [
        "model.load_state_dict(torch.load('/content/drive/MyDrive/best_transformer_nmt.pth',map_location=DEVICE)['model_state_dict'])"
      ],
      "metadata": {
        "id": "OBgQMrghWV6Q",
        "outputId": "a06e1410-76a0-42f5-dd6c-c5b2e85d5afe",
        "colab": {
          "base_uri": "https://localhost:8080/"
        }
      },
      "execution_count": null,
      "outputs": [
        {
          "output_type": "execute_result",
          "data": {
            "text/plain": [
              "<All keys matched successfully>"
            ]
          },
          "metadata": {},
          "execution_count": 39
        }
      ]
    },
    {
      "cell_type": "code",
      "source": [
        "checkpoint = torch.load('/content/drive/MyDrive/best_transformer_nmt.pth',\n",
        "                          map_location=DEVICE)\n",
        "print(f\"Saved at Epoch: {checkpoint['epoch'] + 1}\")\n",
        "print(f\"Val Loss: {checkpoint['val_loss']:.4f}\")"
      ],
      "metadata": {
        "colab": {
          "base_uri": "https://localhost:8080/"
        },
        "id": "BVAKsDzo7kiQ",
        "outputId": "cba0edf0-6ef9-4dbc-efb8-0fb35b6821d1"
      },
      "execution_count": null,
      "outputs": [
        {
          "output_type": "stream",
          "name": "stdout",
          "text": [
            "Saved at Epoch: 17\n",
            "Val Loss: 4.8726\n"
          ]
        }
      ]
    },
    {
      "cell_type": "code",
      "source": [
        "optimizer = optim.AdamW(model.parameters(), lr=1.0, betas=(0.9, 0.98), eps=1e-9)\n",
        "criterion = nn.CrossEntropyLoss(ignore_index=pad_id, label_smoothing=0.1)\n",
        "scaler = torch.cuda.amp.GradScaler(enabled=(DEVICE.type=='cuda'))"
      ],
      "metadata": {
        "colab": {
          "base_uri": "https://localhost:8080/"
        },
        "id": "YCYYD1bx8QRy",
        "outputId": "5a7f05e3-3560-48b7-d160-0c719ef8fa8b"
      },
      "execution_count": null,
      "outputs": [
        {
          "output_type": "stream",
          "name": "stderr",
          "text": [
            "/tmp/ipython-input-1582191148.py:3: FutureWarning: `torch.cuda.amp.GradScaler(args...)` is deprecated. Please use `torch.amp.GradScaler('cuda', args...)` instead.\n",
            "  scaler = torch.cuda.amp.GradScaler(enabled=(DEVICE.type=='cuda'))\n"
          ]
        }
      ]
    },
    {
      "cell_type": "code",
      "source": [
        "model.load_state_dict(checkpoint['model_state_dict'])\n",
        "optimizer.load_state_dict(checkpoint['optimizer_state_dict'])\n",
        "if 'scaler_state_dict' in checkpoint:\n",
        "    scaler.load_state_dict(checkpoint['scaler_state_dict'])"
      ],
      "metadata": {
        "id": "3pMXsFGZ8Jcc"
      },
      "execution_count": null,
      "outputs": []
    },
    {
      "cell_type": "code",
      "source": [
        "start_epoch = checkpoint['epoch'] + 1\n",
        "step = checkpoint.get('step', 1)\n",
        "best_val_loss = checkpoint.get('best_val_loss', checkpoint.get('val_loss', float('inf')))"
      ],
      "metadata": {
        "id": "cs0y8pDN8e8Z"
      },
      "execution_count": null,
      "outputs": []
    },
    {
      "cell_type": "code",
      "source": [
        "step"
      ],
      "metadata": {
        "colab": {
          "base_uri": "https://localhost:8080/"
        },
        "id": "5CKufqwB-DQu",
        "outputId": "1cc2a116-8c80-4339-d4c6-f9845aa6c338"
      },
      "execution_count": null,
      "outputs": [
        {
          "output_type": "execute_result",
          "data": {
            "text/plain": [
              "1"
            ]
          },
          "metadata": {},
          "execution_count": 54
        }
      ]
    },
    {
      "cell_type": "code",
      "source": [
        "batches_per_epoch = len(train_loader)\n",
        "step = checkpoint['epoch'] * batches_per_epoch\n",
        "\n",
        "print(f\"✅ Calculated step: {step}\")"
      ],
      "metadata": {
        "colab": {
          "base_uri": "https://localhost:8080/"
        },
        "id": "aw36u1m492PD",
        "outputId": "5665e807-a909-4a89-e2c0-b65d964b987a"
      },
      "execution_count": null,
      "outputs": [
        {
          "output_type": "stream",
          "name": "stdout",
          "text": [
            "✅ Calculated step: 25088\n"
          ]
        }
      ]
    },
    {
      "cell_type": "code",
      "source": [
        "def get_lr(step, d_model, warmup_steps=4000):\n",
        "    \"\"\"Learning rate schedule with warmup\"\"\"\n",
        "    step = max(step, 1)\n",
        "    return (d_model ** -0.5) * min(step ** -0.5, step * (warmup_steps ** -1.5))"
      ],
      "metadata": {
        "id": "sZ-PAQBD-kL2"
      },
      "execution_count": null,
      "outputs": []
    },
    {
      "cell_type": "code",
      "source": [
        "print(\"\\n\" + \"=\"*60)\n",
        "print(f\"RESUMING TRAINING: Epochs {start_epoch} to 30\")\n",
        "print(\"=\"*60 + \"\\n\")\n",
        "\n",
        "TOTAL_EPOCHS = 30\n",
        "\n",
        "for epoch in range(start_epoch, TOTAL_EPOCHS):\n",
        "    print(f\"\\n{'='*60}\")\n",
        "    print(f\"Epoch {epoch + 1}/{TOTAL_EPOCHS}\")\n",
        "    print(f\"{'='*60}\")\n",
        "\n",
        "    train_loss, step = train_epoch(model, train_loader, optimizer, criterion,\n",
        "                                   DEVICE, scaler, step)\n",
        "    val_loss = evaluate(model, test_loader, criterion, DEVICE)\n",
        "\n",
        "    print(f\"Train Loss: {train_loss:.4f} | Val Loss: {val_loss:.4f}\")\n",
        "\n",
        "    # Save checkpoint to Drive\n",
        "    checkpoint = {\n",
        "        'epoch': epoch,\n",
        "        'step': step,\n",
        "        'model_state_dict': model.state_dict(),\n",
        "        'optimizer_state_dict': optimizer.state_dict(),\n",
        "        'scaler_state_dict': scaler.state_dict(),\n",
        "        'train_loss': train_loss,\n",
        "        'val_loss': val_loss,\n",
        "        'best_val_loss': best_val_loss,\n",
        "    }\n",
        "\n",
        "    # Save best\n",
        "    if val_loss < best_val_loss:\n",
        "        best_val_loss = val_loss\n",
        "        checkpoint['best_val_loss'] = best_val_loss\n",
        "        torch.save(checkpoint, f'/content/drive/MyDrive/best_transformer_nmt.pth')\n",
        "        print(\"✅ Saved best model!\")\n",
        "\n",
        "    # Test translations every 5 epochs\n",
        "    if (epoch + 1) % 5 == 0:\n",
        "        test_sentences = [\n",
        "            \"How are you?\",\n",
        "            \"I love machine learning.\",\n",
        "            \"The weather is nice today.\"\n",
        "        ]\n",
        "        print(\"\\n--- Sample Translations ---\")\n",
        "        for sent in test_sentences:\n",
        "            translation = translate_sentence(model, sent, tokenizer, DEVICE)\n",
        "            print(f\"EN: {sent}\")\n",
        "            print(f\"HI: {translation}\\n\")\n",
        "\n",
        "print(\"\\n✅ Training complete!\")\n",
        "print(f\"🎉 Final Best Validation Loss: {best_val_loss:.4f}\")"
      ],
      "metadata": {
        "colab": {
          "base_uri": "https://localhost:8080/"
        },
        "id": "RG_T6xid-l0c",
        "outputId": "8dad58ab-807b-4007-ea30-1ca8b261ceb3"
      },
      "execution_count": null,
      "outputs": [
        {
          "output_type": "stream",
          "name": "stdout",
          "text": [
            "\n",
            "============================================================\n",
            "RESUMING TRAINING: Epochs 17 to 30\n",
            "============================================================\n",
            "\n",
            "\n",
            "============================================================\n",
            "Epoch 18/30\n",
            "============================================================\n"
          ]
        },
        {
          "output_type": "stream",
          "name": "stderr",
          "text": []
        },
        {
          "output_type": "stream",
          "name": "stdout",
          "text": [
            "Train Loss: 4.4338 | Val Loss: 4.8584\n",
            "✅ Saved best model!\n",
            "\n",
            "============================================================\n",
            "Epoch 19/30\n",
            "============================================================\n"
          ]
        },
        {
          "output_type": "stream",
          "name": "stderr",
          "text": []
        },
        {
          "output_type": "stream",
          "name": "stdout",
          "text": [
            "Train Loss: 4.3930 | Val Loss: 4.8346\n",
            "✅ Saved best model!\n",
            "\n",
            "============================================================\n",
            "Epoch 20/30\n",
            "============================================================\n"
          ]
        },
        {
          "output_type": "stream",
          "name": "stderr",
          "text": []
        },
        {
          "output_type": "stream",
          "name": "stdout",
          "text": [
            "Train Loss: 4.3563 | Val Loss: 4.8267\n",
            "✅ Saved best model!\n",
            "\n",
            "--- Sample Translations ---\n",
            "EN: How are you?\n",
            "HI: कय आप कस कर सकत ह ?\n",
            "\n",
            "EN: I love machine learning.\n",
            "HI: मशन क लए .\n",
            "\n",
            "EN: The weather is nice today.\n",
            "HI: यह वशव क सबस बड खलड ह ।\n",
            "\n",
            "\n",
            "============================================================\n",
            "Epoch 21/30\n",
            "============================================================\n"
          ]
        },
        {
          "output_type": "stream",
          "name": "stderr",
          "text": []
        },
        {
          "output_type": "stream",
          "name": "stdout",
          "text": [
            "Train Loss: 4.3194 | Val Loss: 4.8021\n",
            "✅ Saved best model!\n",
            "\n",
            "============================================================\n",
            "Epoch 22/30\n",
            "============================================================\n"
          ]
        },
        {
          "output_type": "stream",
          "name": "stderr",
          "text": []
        },
        {
          "output_type": "stream",
          "name": "stdout",
          "text": [
            "Train Loss: 4.2853 | Val Loss: 4.8059\n",
            "\n",
            "============================================================\n",
            "Epoch 23/30\n",
            "============================================================\n"
          ]
        },
        {
          "output_type": "stream",
          "name": "stderr",
          "text": []
        },
        {
          "output_type": "stream",
          "name": "stdout",
          "text": [
            "Train Loss: 4.2550 | Val Loss: 4.7963\n",
            "✅ Saved best model!\n",
            "\n",
            "============================================================\n",
            "Epoch 24/30\n",
            "============================================================\n"
          ]
        },
        {
          "output_type": "stream",
          "name": "stderr",
          "text": []
        },
        {
          "output_type": "stream",
          "name": "stdout",
          "text": [
            "Train Loss: 4.2221 | Val Loss: 4.7896\n",
            "✅ Saved best model!\n",
            "\n",
            "============================================================\n",
            "Epoch 25/30\n",
            "============================================================\n"
          ]
        },
        {
          "output_type": "stream",
          "name": "stderr",
          "text": []
        },
        {
          "output_type": "stream",
          "name": "stdout",
          "text": [
            "Train Loss: 4.1947 | Val Loss: 4.7826\n",
            "✅ Saved best model!\n",
            "\n",
            "--- Sample Translations ---\n",
            "EN: How are you?\n",
            "HI: आप कस करत ह ?\n",
            "\n",
            "EN: I love machine learning.\n",
            "HI: हम मशन क उपयग कर सकत ह ।\n",
            "\n",
            "EN: The weather is nice today.\n",
            "HI: दश क सबस बड ह ।\n",
            "\n",
            "\n",
            "============================================================\n",
            "Epoch 26/30\n",
            "============================================================\n"
          ]
        },
        {
          "output_type": "stream",
          "name": "stderr",
          "text": []
        },
        {
          "output_type": "stream",
          "name": "stdout",
          "text": [
            "Train Loss: 4.1665 | Val Loss: 4.7844\n",
            "\n",
            "============================================================\n",
            "Epoch 27/30\n",
            "============================================================\n"
          ]
        },
        {
          "output_type": "stream",
          "name": "stderr",
          "text": []
        },
        {
          "output_type": "stream",
          "name": "stdout",
          "text": [
            "Train Loss: 4.1402 | Val Loss: 4.7714\n",
            "✅ Saved best model!\n",
            "\n",
            "============================================================\n",
            "Epoch 28/30\n",
            "============================================================\n"
          ]
        },
        {
          "output_type": "stream",
          "name": "stderr",
          "text": []
        },
        {
          "output_type": "stream",
          "name": "stdout",
          "text": [
            "Train Loss: 4.1135 | Val Loss: 4.7719\n",
            "\n",
            "============================================================\n",
            "Epoch 29/30\n",
            "============================================================\n"
          ]
        },
        {
          "output_type": "stream",
          "name": "stderr",
          "text": []
        },
        {
          "output_type": "stream",
          "name": "stdout",
          "text": [
            "Train Loss: 4.0897 | Val Loss: 4.7601\n",
            "✅ Saved best model!\n",
            "\n",
            "============================================================\n",
            "Epoch 30/30\n",
            "============================================================\n"
          ]
        },
        {
          "output_type": "stream",
          "name": "stderr",
          "text": []
        },
        {
          "output_type": "stream",
          "name": "stdout",
          "text": [
            "Train Loss: 4.0668 | Val Loss: 4.7543\n",
            "✅ Saved best model!\n",
            "\n",
            "--- Sample Translations ---\n",
            "EN: How are you?\n",
            "HI: कय आप कस करत ह ?\n",
            "\n",
            "EN: I love machine learning.\n",
            "HI: म चहत ह क मशन सखन चहत ह ।\n",
            "\n",
            "EN: The weather is nice today.\n",
            "HI: इटरनट पर .\n",
            "\n",
            "\n",
            "✅ Training complete!\n",
            "🎉 Final Best Validation Loss: 4.7543\n"
          ]
        }
      ]
    },
    {
      "cell_type": "code",
      "source": [
        "test_sentences = [\n",
        "                \"How are you?\",\n",
        "                \"Thank you\",\n",
        "                \"Each Veda has four parts.\",\n",
        "                \"I will to tell you something\",\n",
        "                \"He blames the Government for the delay in securing infrastructure during the first three months : “ We began hearing only in July .\",\n",
        "                \"I'll explain a little bit about how it works.\"\n",
        "            ]\n",
        "print(\"\\n--- Sample Translations ---\")\n",
        "for sent in test_sentences:\n",
        "  translation = translate_sentence(model, sent, tokenizer, DEVICE)\n",
        "  print(f\"EN: {sent}\")\n",
        "  print(f\"HI: {translation}\\n\")"
      ],
      "metadata": {
        "id": "otz9QT-EXB1J",
        "outputId": "e63187a6-7f9d-49ab-f344-6c744fa84e9d",
        "colab": {
          "base_uri": "https://localhost:8080/"
        }
      },
      "execution_count": null,
      "outputs": [
        {
          "output_type": "stream",
          "name": "stdout",
          "text": [
            "\n",
            "--- Sample Translations ---\n",
            "EN: How are you?\n",
            "HI: कय आप कस करत ह ?\n",
            "\n",
            "EN: Thank you\n",
            "HI: धनयवद\n",
            "\n",
            "EN: Each Veda has four parts.\n",
            "HI: हर वद म चर भग ह -\n",
            "\n",
            "EN: I will to tell you something\n",
            "HI: म आपक बतन चहत ह\n",
            "\n",
            "EN: He blames the Government for the delay in securing infrastructure during the first three months : “ We began hearing only in July .\n",
            "HI: सरकर न यह बत दय क उसन एक सल क वद क हथ म ह , जब तक क सरकर न सरकर क खलफ एक सबत ह गय .\n",
            "\n",
            "EN: I'll explain a little bit about how it works.\n",
            "HI: म आपक कछ ऐस करन चहत ह ।\n",
            "\n"
          ]
        }
      ]
    }
  ]
}